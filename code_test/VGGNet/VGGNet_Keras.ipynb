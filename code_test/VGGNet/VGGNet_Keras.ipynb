{
  "cells": [
    {
      "cell_type": "code",
      "execution_count": 1,
      "metadata": {
        "id": "WcgEsktnxHxL"
      },
      "outputs": [],
      "source": [
        "from tensorflow.keras.preprocessing.image import ImageDataGenerator\n",
        "from tensorflow.keras import models, layers\n",
        "from tensorflow.keras.optimizers import RMSprop\n",
        "\n",
        "from tensorflow.keras.applications.vgg16 import VGG16\n",
        "\n",
        "from typing import List\n",
        "import os\n",
        "import numpy as np\n",
        "import matplotlib.pyplot as plt"
      ]
    },
    {
      "cell_type": "code",
      "execution_count": 2,
      "metadata": {
        "colab": {
          "base_uri": "https://localhost:8080/"
        },
        "id": "DZ55U6oixHxN",
        "outputId": "c9e98209-39c8-45e2-cae8-b126450ae24e"
      },
      "outputs": [
        {
          "output_type": "stream",
          "name": "stdout",
          "text": [
            "Model: \"sequential\"\n",
            "_________________________________________________________________\n",
            " Layer (type)                Output Shape              Param #   \n",
            "=================================================================\n",
            " conv2d (Conv2D)             (None, 224, 224, 64)      1792      \n",
            "                                                                 \n",
            " max_pooling2d (MaxPooling2D  (None, 112, 112, 64)     0         \n",
            " )                                                               \n",
            "                                                                 \n",
            " conv2d_1 (Conv2D)           (None, 112, 112, 128)     73856     \n",
            "                                                                 \n",
            " max_pooling2d_1 (MaxPooling  (None, 56, 56, 128)      0         \n",
            " 2D)                                                             \n",
            "                                                                 \n",
            " conv2d_2 (Conv2D)           (None, 56, 56, 256)       295168    \n",
            "                                                                 \n",
            " conv2d_3 (Conv2D)           (None, 56, 56, 256)       590080    \n",
            "                                                                 \n",
            " max_pooling2d_2 (MaxPooling  (None, 28, 28, 256)      0         \n",
            " 2D)                                                             \n",
            "                                                                 \n",
            " conv2d_4 (Conv2D)           (None, 28, 28, 512)       1180160   \n",
            "                                                                 \n",
            " conv2d_5 (Conv2D)           (None, 28, 28, 512)       2359808   \n",
            "                                                                 \n",
            " max_pooling2d_3 (MaxPooling  (None, 14, 14, 512)      0         \n",
            " 2D)                                                             \n",
            "                                                                 \n",
            " conv2d_6 (Conv2D)           (None, 14, 14, 512)       2359808   \n",
            "                                                                 \n",
            " conv2d_7 (Conv2D)           (None, 14, 14, 512)       2359808   \n",
            "                                                                 \n",
            "=================================================================\n",
            "Total params: 9,220,480\n",
            "Trainable params: 9,220,480\n",
            "Non-trainable params: 0\n",
            "_________________________________________________________________\n"
          ]
        }
      ],
      "source": [
        "model = models.Sequential()\n",
        "\n",
        "input_shape = (224, 224, 3)\n",
        "\n",
        "c = 64\n",
        "model.add(layers.Conv2D(filters=c, \n",
        "                        kernel_size=3, \n",
        "                        padding='same', \n",
        "                        activation='relu',\n",
        "                        input_shape=input_shape))\n",
        "\n",
        "# defualt pool_size=(2, 2)\n",
        "model.add(layers.MaxPool2D(padding='valid'))\n",
        "\n",
        "c = 128\n",
        "model.add(layers.Conv2D(filters=c, \n",
        "                        kernel_size=3, \n",
        "                        padding='same', \n",
        "                        activation='relu'))\n",
        "\n",
        "model.add(layers.MaxPool2D(padding='valid'))\n",
        "\n",
        "c = 256\n",
        "model.add(layers.Conv2D(filters=c, \n",
        "                        kernel_size=3, \n",
        "                        padding='same', \n",
        "                        activation='relu'))\n",
        "\n",
        "model.add(layers.Conv2D(filters=c, \n",
        "                        kernel_size=3, \n",
        "                        padding='same', \n",
        "                        activation='relu'))\n",
        "\n",
        "model.add(layers.MaxPool2D(padding='valid'))\n",
        "\n",
        "c = 512\n",
        "model.add(layers.Conv2D(filters=c, \n",
        "                        kernel_size=3, \n",
        "                        padding='same', \n",
        "                        activation='relu'))\n",
        "\n",
        "model.add(layers.Conv2D(filters=c, \n",
        "                        kernel_size=3, \n",
        "                        padding='same', \n",
        "                        activation='relu'))\n",
        "\n",
        "model.add(layers.MaxPool2D(padding='valid'))\n",
        "\n",
        "c = 512\n",
        "model.add(layers.Conv2D(filters=c, \n",
        "                        kernel_size=3, \n",
        "                        padding='same', \n",
        "                        activation='relu'))\n",
        "\n",
        "model.add(layers.Conv2D(filters=c, \n",
        "                        kernel_size=3, \n",
        "                        padding='same', \n",
        "                        activation='relu'))\n",
        "\n",
        "model.summary()\n"
      ]
    },
    {
      "cell_type": "code",
      "execution_count": 3,
      "metadata": {
        "id": "0Ob2cY2jxHxP"
      },
      "outputs": [],
      "source": [
        "# DONE Sequential or Functional\n",
        "def vggnet_model(config: List, batch_norm: bool, input_shape: List):\n",
        "    model = models.Sequential()\n",
        "    c = config[0]\n",
        "\n",
        "    model.add(layers.Conv2D(filters=c, \n",
        "                            kernel_size=3, \n",
        "                            padding='same', \n",
        "                            activation='relu',\n",
        "                            input_shape=input_shape))\n",
        "\n",
        "    for c in config[1:]:\n",
        "        if c == 'M':\n",
        "            model.add(layers.MaxPool2D())\n",
        "        else:\n",
        "            model.add(layers.Conv2D(filters=c, \n",
        "                                    kernel_size=3, \n",
        "                                    activation='relu',\n",
        "                                    padding='same'))\n",
        "\n",
        "    model.add(layers.Flatten())\n",
        "    model.add(layers.Dense(4096, activation='relu', input_dim=(512 * 7 * 7)))\n",
        "    model.add(layers.Dense(4096, activation='relu'))\n",
        "    model.add(layers.Dense(1000, activation='softmax'))\n",
        "    model.add(layers.Dense(1, activation='sigmoid'))\n",
        "    return model"
      ]
    },
    {
      "cell_type": "code",
      "execution_count": 4,
      "metadata": {
        "id": "lw6S-BZvxHxP"
      },
      "outputs": [],
      "source": [
        "vgg_A_config = [64, 'M', 128, 'M', 256, 256, 'M', 512, 512, 'M', 512, 512, 'M']\n",
        "\n",
        "vgg_B_config = [64, 64, 'M', 128, 128, 'M', 256, 256, 'M', \n",
        "                512, 512, 'M', 512, 512, 'M']\n",
        "\n",
        "vgg_C_config = [64, 64, 'M', 128, 128, 'M', 256, 256, 256, 'M', \n",
        "                512, 512, 512, 'M', 512, 512, 512, 'M']\n",
        "\n",
        "vgg_E_config = [64, 64, 'M', 128, 128, 'M', 256, 256, 256, 256, 'M', \n",
        "                512, 512, 512, 512, 'M', 512, 512, 512, 512, 'M']"
      ]
    },
    {
      "cell_type": "code",
      "execution_count": 5,
      "metadata": {
        "colab": {
          "base_uri": "https://localhost:8080/"
        },
        "id": "UNJxT2QexHxQ",
        "outputId": "f6be8ec1-4f7b-45b4-d7e0-008d165dfcce"
      },
      "outputs": [
        {
          "output_type": "stream",
          "name": "stdout",
          "text": [
            "Model: \"sequential_1\"\n",
            "_________________________________________________________________\n",
            " Layer (type)                Output Shape              Param #   \n",
            "=================================================================\n",
            " conv2d_8 (Conv2D)           (None, 224, 224, 64)      1792      \n",
            "                                                                 \n",
            " max_pooling2d_4 (MaxPooling  (None, 112, 112, 64)     0         \n",
            " 2D)                                                             \n",
            "                                                                 \n",
            " conv2d_9 (Conv2D)           (None, 112, 112, 128)     73856     \n",
            "                                                                 \n",
            " max_pooling2d_5 (MaxPooling  (None, 56, 56, 128)      0         \n",
            " 2D)                                                             \n",
            "                                                                 \n",
            " conv2d_10 (Conv2D)          (None, 56, 56, 256)       295168    \n",
            "                                                                 \n",
            " conv2d_11 (Conv2D)          (None, 56, 56, 256)       590080    \n",
            "                                                                 \n",
            " max_pooling2d_6 (MaxPooling  (None, 28, 28, 256)      0         \n",
            " 2D)                                                             \n",
            "                                                                 \n",
            " conv2d_12 (Conv2D)          (None, 28, 28, 512)       1180160   \n",
            "                                                                 \n",
            " conv2d_13 (Conv2D)          (None, 28, 28, 512)       2359808   \n",
            "                                                                 \n",
            " max_pooling2d_7 (MaxPooling  (None, 14, 14, 512)      0         \n",
            " 2D)                                                             \n",
            "                                                                 \n",
            " conv2d_14 (Conv2D)          (None, 14, 14, 512)       2359808   \n",
            "                                                                 \n",
            " conv2d_15 (Conv2D)          (None, 14, 14, 512)       2359808   \n",
            "                                                                 \n",
            " max_pooling2d_8 (MaxPooling  (None, 7, 7, 512)        0         \n",
            " 2D)                                                             \n",
            "                                                                 \n",
            " flatten (Flatten)           (None, 25088)             0         \n",
            "                                                                 \n",
            " dense (Dense)               (None, 4096)              102764544 \n",
            "                                                                 \n",
            " dense_1 (Dense)             (None, 4096)              16781312  \n",
            "                                                                 \n",
            " dense_2 (Dense)             (None, 1000)              4097000   \n",
            "                                                                 \n",
            " dense_3 (Dense)             (None, 1)                 1001      \n",
            "                                                                 \n",
            "=================================================================\n",
            "Total params: 132,864,337\n",
            "Trainable params: 132,864,337\n",
            "Non-trainable params: 0\n",
            "_________________________________________________________________\n",
            "None\n"
          ]
        }
      ],
      "source": [
        "input_shape = [224, 224, 3]\n",
        "test_vggnet = vggnet_model(config=vgg_A_config, batch_norm=True, input_shape=input_shape)\n",
        "\n",
        "print(test_vggnet.summary())"
      ]
    },
    {
      "cell_type": "code",
      "execution_count": 6,
      "metadata": {
        "id": "dfEePdzSxHxQ"
      },
      "outputs": [],
      "source": [
        "input_shape = [150, 150, 3]\n",
        "vggnet = vggnet_model(config=vgg_A_config, batch_norm=True, input_shape=input_shape)"
      ]
    },
    {
      "cell_type": "code",
      "execution_count": 7,
      "metadata": {
        "id": "MkgRsdWyxHxQ"
      },
      "outputs": [],
      "source": [
        "vggnet.compile(loss='binary_crossentropy',\n",
        "               optimizer=RMSprop(learning_rate=1e-4),\n",
        "               metrics=['acc'])"
      ]
    },
    {
      "cell_type": "code",
      "execution_count": 8,
      "metadata": {
        "colab": {
          "base_uri": "https://localhost:8080/"
        },
        "id": "x5-bpw5vAcqh",
        "outputId": "f07ac6d3-685a-4786-c330-2d0d131d5c14"
      },
      "outputs": [
        {
          "output_type": "stream",
          "name": "stdout",
          "text": [
            "Mounted at /content/drive\n",
            "/content/drive/MyDrive/Colab Notebooks/Keras/code_test\n"
          ]
        }
      ],
      "source": [
        "from google.colab import drive\n",
        "drive.mount('/content/drive')\n",
        "\n",
        "%cd /content/drive/MyDrive/Colab\\ Notebooks/Keras/code_test/"
      ]
    },
    {
      "cell_type": "code",
      "execution_count": 9,
      "metadata": {
        "colab": {
          "base_uri": "https://localhost:8080/"
        },
        "id": "02gel2eUA02e",
        "outputId": "04e8fb9c-5646-4949-f8ee-1e984ac14ca4"
      },
      "outputs": [
        {
          "output_type": "stream",
          "name": "stdout",
          "text": [
            "/content/drive/MyDrive/Colab Notebooks/Keras/code_test\n"
          ]
        }
      ],
      "source": [
        "folder_dir = os.getcwd()\n",
        "print(folder_dir)"
      ]
    },
    {
      "cell_type": "code",
      "execution_count": 10,
      "metadata": {
        "colab": {
          "base_uri": "https://localhost:8080/"
        },
        "id": "jzKSdYqmxHxR",
        "outputId": "03405c38-531f-4297-bd7f-87b43a155c12"
      },
      "outputs": [
        {
          "output_type": "stream",
          "name": "stdout",
          "text": [
            "Found 2009 images belonging to 2 classes.\n",
            "Found 1000 images belonging to 2 classes.\n"
          ]
        }
      ],
      "source": [
        "base_dir = folder_dir + '/datasets/cats_vs_dogs_small'\n",
        "\n",
        "train_dir = os.path.join(base_dir, 'train')\n",
        "validation_dir = os.path.join(base_dir, 'validation')\n",
        "\n",
        "train_datagen = ImageDataGenerator(rescale=1./255)\n",
        "test_datagen = ImageDataGenerator(rescale=1./255)\n",
        "\n",
        "train_generator = train_datagen.flow_from_directory(train_dir,\n",
        "                                                    target_size=(150, 150),\n",
        "                                                    batch_size=20,\n",
        "                                                    class_mode='binary')\n",
        "\n",
        "validation_generator = test_datagen.flow_from_directory(validation_dir,\n",
        "                                                        target_size=(150, 150),\n",
        "                                                        batch_size=20,\n",
        "                                                        class_mode='binary')"
      ]
    },
    {
      "cell_type": "code",
      "execution_count": 11,
      "metadata": {
        "colab": {
          "base_uri": "https://localhost:8080/"
        },
        "id": "rYUcuiXCxHxS",
        "outputId": "fad52516-86a0-4b77-bc4e-f2083a09634c"
      },
      "outputs": [
        {
          "output_type": "stream",
          "name": "stdout",
          "text": [
            "data batch shape  : (20, 150, 150, 3)\n",
            "labels batch shape: (20,)\n"
          ]
        }
      ],
      "source": [
        "for data_batch, labels_batch in train_generator:\n",
        "    print(f\"data batch shape  : {data_batch.shape}\")\n",
        "    print(f\"labels batch shape: {labels_batch.shape}\")\n",
        "    break"
      ]
    },
    {
      "cell_type": "code",
      "execution_count": 13,
      "metadata": {
        "colab": {
          "base_uri": "https://localhost:8080/"
        },
        "id": "T5WAeldtxHxS",
        "outputId": "f556af67-d1cc-4fb1-dd81-226758ba66d0"
      },
      "outputs": [
        {
          "output_type": "stream",
          "name": "stdout",
          "text": [
            "Epoch 1/5\n"
          ]
        },
        {
          "output_type": "stream",
          "name": "stderr",
          "text": [
            "/usr/local/lib/python3.7/dist-packages/ipykernel_launcher.py:6: UserWarning: `Model.fit_generator` is deprecated and will be removed in a future version. Please use `Model.fit`, which supports generators.\n",
            "  \n"
          ]
        },
        {
          "output_type": "stream",
          "name": "stdout",
          "text": [
            "100/100 [==============================] - 488s 5s/step - loss: 0.6932 - acc: 0.4977 - val_loss: 0.6931 - val_acc: 0.5000\n",
            "Epoch 2/5\n",
            "100/100 [==============================] - 16s 154ms/step - loss: 0.6932 - acc: 0.4852 - val_loss: 0.6931 - val_acc: 0.5000\n",
            "Epoch 3/5\n",
            "100/100 [==============================] - 15s 155ms/step - loss: 0.6932 - acc: 0.4977 - val_loss: 0.6930 - val_acc: 0.4990\n",
            "Epoch 4/5\n",
            "100/100 [==============================] - 16s 156ms/step - loss: 0.6926 - acc: 0.5259 - val_loss: 0.6916 - val_acc: 0.5800\n",
            "Epoch 5/5\n",
            "100/100 [==============================] - 16s 156ms/step - loss: 0.6907 - acc: 0.5500 - val_loss: 0.6940 - val_acc: 0.5000\n"
          ]
        }
      ],
      "source": [
        "# TODO model.fit_generator > model.fit\n",
        "history = vggnet.fit_generator(train_generator,\n",
        "                              steps_per_epoch=100,\n",
        "                              epochs=5,\n",
        "                              validation_data=validation_generator,\n",
        "                              validation_steps=50)\n",
        "\n",
        "# TODO 저장된 모델을 추후에 재학습        \n",
        "vggnet.save('./models/cats_and_dogs_vggnet.h5')"
      ]
    },
    {
      "cell_type": "code",
      "execution_count": 14,
      "metadata": {
        "id": "i5ntrFzcxHxS",
        "colab": {
          "base_uri": "https://localhost:8080/",
          "height": 545
        },
        "outputId": "05289d83-0ea5-4c68-9920-d413b5b35b3f"
      },
      "outputs": [
        {
          "output_type": "display_data",
          "data": {
            "text/plain": [
              "<Figure size 432x288 with 1 Axes>"
            ],
            "image/png": "[encoded data removed]"
          },
          "metadata": {
            "needs_background": "light"
          }
        },
        {
          "output_type": "display_data",
          "data": {
            "text/plain": [
              "<Figure size 432x288 with 1 Axes>"
            ],
            "image/png": "[encoded data removed]"
          },
          "metadata": {
            "needs_background": "light"
          }
        }
      ],
      "source": [
        "acc = history.history['acc']\n",
        "val_acc = history.history['val_acc']\n",
        "loss = history.history['loss']\n",
        "val_loss = history.history['val_loss']\n",
        "\n",
        "epochs = range(1, len(acc) + 1)\n",
        "\n",
        "plt.plot(epochs, acc, 'bo', label='Training acc')\n",
        "plt.plot(epochs, val_acc, 'b', label='Validation acc')\n",
        "plt.title('Training and validation accuracy')\n",
        "plt.legend()\n",
        "\n",
        "plt.figure()\n",
        "\n",
        "plt.plot(epochs, loss, 'bo', label='Training loss')\n",
        "plt.plot(epochs, val_loss, 'b', label='Validation loss')\n",
        "plt.title('Training and validation loss')\n",
        "plt.legend()\n",
        "\n",
        "plt.show()"
      ]
    }
  ],
  "metadata": {
    "accelerator": "GPU",
    "colab": {
      "collapsed_sections": [],
      "provenance": []
    },
    "kernelspec": {
      "display_name": "Python 3.9.7 ('tf26')",
      "language": "python",
      "name": "python3"
    },
    "language_info": {
      "codemirror_mode": {
        "name": "ipython",
        "version": 3
      },
      "file_extension": ".py",
      "mimetype": "text/x-python",
      "name": "python",
      "nbconvert_exporter": "python",
      "pygments_lexer": "ipython3",
      "version": "3.9.7"
    },
    "orig_nbformat": 4,
    "vscode": {
      "interpreter": {
        "hash": "1e329751ad3fbc78699a5e88abe00d39aafe605dca43acf9894240e004a03697"
      }
    }
  },
  "nbformat": 4,
  "nbformat_minor": 0
}