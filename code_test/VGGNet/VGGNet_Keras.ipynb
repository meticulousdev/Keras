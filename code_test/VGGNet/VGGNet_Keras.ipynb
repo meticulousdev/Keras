{
 "cells": [
  {
   "cell_type": "code",
   "execution_count": 2,
   "metadata": {},
   "outputs": [],
   "source": [
    "from tensorflow.keras.preprocessing.image import ImageDataGenerator\n",
    "from tensorflow.keras import models, layers\n",
    "from tensorflow.keras.optimizers import RMSprop\n",
    "\n",
    "from tensorflow.keras.applications.vgg16 import VGG16\n",
    "\n",
    "from typing import List\n",
    "import os\n",
    "import numpy as np\n",
    "import matplotlib.pyplot as plt"
   ]
  },
  {
   "cell_type": "code",
   "execution_count": 3,
   "metadata": {},
   "outputs": [
    {
     "name": "stdout",
     "output_type": "stream",
     "text": [
      "Metal device set to: Apple M1\n",
      "\n",
      "systemMemory: 16.00 GB\n",
      "maxCacheSize: 5.33 GB\n",
      "\n",
      "Model: \"sequential\"\n",
      "_________________________________________________________________\n",
      "Layer (type)                 Output Shape              Param #   \n",
      "=================================================================\n",
      "conv2d (Conv2D)              (None, 224, 224, 64)      1792      \n",
      "_________________________________________________________________\n",
      "max_pooling2d (MaxPooling2D) (None, 112, 112, 64)      0         \n",
      "_________________________________________________________________\n",
      "conv2d_1 (Conv2D)            (None, 112, 112, 128)     73856     \n",
      "_________________________________________________________________\n",
      "max_pooling2d_1 (MaxPooling2 (None, 56, 56, 128)       0         \n",
      "_________________________________________________________________\n",
      "conv2d_2 (Conv2D)            (None, 56, 56, 256)       295168    \n",
      "_________________________________________________________________\n",
      "conv2d_3 (Conv2D)            (None, 56, 56, 256)       590080    \n",
      "_________________________________________________________________\n",
      "max_pooling2d_2 (MaxPooling2 (None, 28, 28, 256)       0         \n",
      "_________________________________________________________________\n",
      "conv2d_4 (Conv2D)            (None, 28, 28, 512)       1180160   \n",
      "_________________________________________________________________\n",
      "conv2d_5 (Conv2D)            (None, 28, 28, 512)       2359808   \n",
      "_________________________________________________________________\n",
      "max_pooling2d_3 (MaxPooling2 (None, 14, 14, 512)       0         \n",
      "_________________________________________________________________\n",
      "conv2d_6 (Conv2D)            (None, 14, 14, 512)       2359808   \n",
      "_________________________________________________________________\n",
      "conv2d_7 (Conv2D)            (None, 14, 14, 512)       2359808   \n",
      "=================================================================\n",
      "Total params: 9,220,480\n",
      "Trainable params: 9,220,480\n",
      "Non-trainable params: 0\n",
      "_________________________________________________________________\n"
     ]
    },
    {
     "name": "stderr",
     "output_type": "stream",
     "text": [
      "2022-09-20 19:24:49.587003: I tensorflow/core/common_runtime/pluggable_device/pluggable_device_factory.cc:305] Could not identify NUMA node of platform GPU ID 0, defaulting to 0. Your kernel may not have been built with NUMA support.\n",
      "2022-09-20 19:24:49.587130: I tensorflow/core/common_runtime/pluggable_device/pluggable_device_factory.cc:271] Created TensorFlow device (/job:localhost/replica:0/task:0/device:GPU:0 with 0 MB memory) -> physical PluggableDevice (device: 0, name: METAL, pci bus id: <undefined>)\n"
     ]
    }
   ],
   "source": [
    "model = models.Sequential()\n",
    "\n",
    "input_shape = (224, 224, 3)\n",
    "\n",
    "c = 64\n",
    "model.add(layers.Conv2D(filters=c, \n",
    "                        kernel_size=3, \n",
    "                        padding='same', \n",
    "                        activation='relu',\n",
    "                        input_shape=input_shape))\n",
    "\n",
    "# defualt pool_size=(2, 2)\n",
    "model.add(layers.MaxPool2D(padding='valid'))\n",
    "\n",
    "c = 128\n",
    "model.add(layers.Conv2D(filters=c, \n",
    "                        kernel_size=3, \n",
    "                        padding='same', \n",
    "                        activation='relu'))\n",
    "\n",
    "model.add(layers.MaxPool2D(padding='valid'))\n",
    "\n",
    "c = 256\n",
    "model.add(layers.Conv2D(filters=c, \n",
    "                        kernel_size=3, \n",
    "                        padding='same', \n",
    "                        activation='relu'))\n",
    "\n",
    "model.add(layers.Conv2D(filters=c, \n",
    "                        kernel_size=3, \n",
    "                        padding='same', \n",
    "                        activation='relu'))\n",
    "\n",
    "model.add(layers.MaxPool2D(padding='valid'))\n",
    "\n",
    "c = 512\n",
    "model.add(layers.Conv2D(filters=c, \n",
    "                        kernel_size=3, \n",
    "                        padding='same', \n",
    "                        activation='relu'))\n",
    "\n",
    "model.add(layers.Conv2D(filters=c, \n",
    "                        kernel_size=3, \n",
    "                        padding='same', \n",
    "                        activation='relu'))\n",
    "\n",
    "model.add(layers.MaxPool2D(padding='valid'))\n",
    "\n",
    "c = 512\n",
    "model.add(layers.Conv2D(filters=c, \n",
    "                        kernel_size=3, \n",
    "                        padding='same', \n",
    "                        activation='relu'))\n",
    "\n",
    "model.add(layers.Conv2D(filters=c, \n",
    "                        kernel_size=3, \n",
    "                        padding='same', \n",
    "                        activation='relu'))\n",
    "\n",
    "model.summary()\n"
   ]
  },
  {
   "cell_type": "code",
   "execution_count": 16,
   "metadata": {},
   "outputs": [],
   "source": [
    "# DONE Sequential or Functional\n",
    "def vggnet_model(config: List, batch_norm: bool, input_shape: List):\n",
    "    model = models.Sequential()\n",
    "    c = config[0]\n",
    "\n",
    "    model.add(layers.Conv2D(filters=c, \n",
    "                            kernel_size=3, \n",
    "                            padding='same', \n",
    "                            activation='relu',\n",
    "                            input_shape=input_shape))\n",
    "\n",
    "    for c in config[1:]:\n",
    "        if c == 'M':\n",
    "            model.add(layers.MaxPool2D())\n",
    "        else:\n",
    "            model.add(layers.Conv2D(filters=c, \n",
    "                                    kernel_size=3, \n",
    "                                    activation='relu',\n",
    "                                    padding='same'))\n",
    "\n",
    "    model.add(layers.Dense(4096, input_dim=(512 * 7 * 7)))\n",
    "    model.add(layers.Dense(4096))\n",
    "    model.add(layers.Dense(4096))\n",
    "    model.add(layers.Dense(1000, activation='softmax'))\n",
    "\n",
    "    return model"
   ]
  },
  {
   "cell_type": "code",
   "execution_count": 17,
   "metadata": {},
   "outputs": [],
   "source": [
    "vgg_A_config = [64, 'M', 128, 'M', 256, 256, 'M', 512, 512, 'M', 512, 512, 'M']\n",
    "\n",
    "vgg_B_config = [64, 64, 'M', 128, 128, 'M', 256, 256, 'M', \n",
    "                512, 512, 'M', 512, 512, 'M']\n",
    "\n",
    "vgg_C_config = [64, 64, 'M', 128, 128, 'M', 256, 256, 256, 'M', \n",
    "                512, 512, 512, 'M', 512, 512, 512, 'M']\n",
    "\n",
    "vgg_E_config = [64, 64, 'M', 128, 128, 'M', 256, 256, 256, 256, 'M', \n",
    "                512, 512, 512, 512, 'M', 512, 512, 512, 512, 'M']"
   ]
  },
  {
   "cell_type": "code",
   "execution_count": 19,
   "metadata": {},
   "outputs": [
    {
     "name": "stdout",
     "output_type": "stream",
     "text": [
      "Model: \"sequential_6\"\n",
      "_________________________________________________________________\n",
      "Layer (type)                 Output Shape              Param #   \n",
      "=================================================================\n",
      "conv2d_48 (Conv2D)           (None, 224, 224, 64)      1792      \n",
      "_________________________________________________________________\n",
      "max_pooling2d_31 (MaxPooling (None, 112, 112, 64)      0         \n",
      "_________________________________________________________________\n",
      "conv2d_49 (Conv2D)           (None, 112, 112, 128)     73856     \n",
      "_________________________________________________________________\n",
      "max_pooling2d_32 (MaxPooling (None, 56, 56, 128)       0         \n",
      "_________________________________________________________________\n",
      "conv2d_50 (Conv2D)           (None, 56, 56, 256)       295168    \n",
      "_________________________________________________________________\n",
      "conv2d_51 (Conv2D)           (None, 56, 56, 256)       590080    \n",
      "_________________________________________________________________\n",
      "max_pooling2d_33 (MaxPooling (None, 28, 28, 256)       0         \n",
      "_________________________________________________________________\n",
      "conv2d_52 (Conv2D)           (None, 28, 28, 512)       1180160   \n",
      "_________________________________________________________________\n",
      "conv2d_53 (Conv2D)           (None, 28, 28, 512)       2359808   \n",
      "_________________________________________________________________\n",
      "max_pooling2d_34 (MaxPooling (None, 14, 14, 512)       0         \n",
      "_________________________________________________________________\n",
      "conv2d_54 (Conv2D)           (None, 14, 14, 512)       2359808   \n",
      "_________________________________________________________________\n",
      "conv2d_55 (Conv2D)           (None, 14, 14, 512)       2359808   \n",
      "_________________________________________________________________\n",
      "max_pooling2d_35 (MaxPooling (None, 7, 7, 512)         0         \n",
      "_________________________________________________________________\n",
      "dense_12 (Dense)             (None, 7, 7, 4096)        2101248   \n",
      "_________________________________________________________________\n",
      "dense_13 (Dense)             (None, 7, 7, 4096)        16781312  \n",
      "_________________________________________________________________\n",
      "dense_14 (Dense)             (None, 7, 7, 4096)        16781312  \n",
      "_________________________________________________________________\n",
      "dense_15 (Dense)             (None, 7, 7, 1000)        4097000   \n",
      "=================================================================\n",
      "Total params: 48,981,352\n",
      "Trainable params: 48,981,352\n",
      "Non-trainable params: 0\n",
      "_________________________________________________________________\n",
      "None\n"
     ]
    }
   ],
   "source": [
    "input_shape = [224, 224, 3]\n",
    "test_vggnet = vggnet_model(config=vgg_A_config, batch_norm=True, input_shape=input_shape)\n",
    "\n",
    "print(test_vggnet.summary())"
   ]
  },
  {
   "cell_type": "code",
   "execution_count": null,
   "metadata": {},
   "outputs": [],
   "source": [
    "input_shape = [150, 150, 3]\n",
    "vggnet = vggnet_model(config=vgg_A_config, batch_norm=True, input_shape=input_shape)"
   ]
  },
  {
   "cell_type": "code",
   "execution_count": null,
   "metadata": {},
   "outputs": [],
   "source": [
    "vggnet.compile(loss='binary_crossentropy',\n",
    "               optimizer=RMSprop(learning_rate=1e-4),\n",
    "               metrics=['acc'])"
   ]
  },
  {
   "cell_type": "code",
   "execution_count": null,
   "metadata": {},
   "outputs": [],
   "source": [
    "folder_dir = os.getcwd()\n",
    "original_dataset_dir = folder_dir + '/datasets/cats_and_dogs/train'\n",
    "\n",
    "base_dir = folder_dir + '/datasets/cats_and_dogs_small'\n",
    "\n",
    "train_dir = os.path.join(base_dir, 'train')\n",
    "validation_dir = os.path.join(base_dir, 'validation')\n",
    "test_dir = os.path.join(base_dir, 'test')\n",
    "\n",
    "train_datagen = ImageDataGenerator(rescale=1./255)\n",
    "test_datagen = ImageDataGenerator(rescale=1./255)\n",
    "\n",
    "train_generator = train_datagen.flow_from_directory(train_dir,\n",
    "                                                    target_size=(150, 150),\n",
    "                                                    batch_size=20,\n",
    "                                                    class_mode='binary')\n",
    "\n",
    "validation_generator = test_datagen.flow_from_directory(validation_dir,\n",
    "                                                        target_size=(150, 150),\n",
    "                                                        batch_size=20,\n",
    "                                                        class_mode='binary')\n",
    "\n"
   ]
  },
  {
   "cell_type": "code",
   "execution_count": null,
   "metadata": {},
   "outputs": [],
   "source": [
    "for data_batch, labels_batch in train_generator:\n",
    "    print(f\"data batch shape  : {data_batch.shape}\")\n",
    "    print(f\"labels batch shape: {labels_batch.shape}\")\n",
    "    break"
   ]
  },
  {
   "cell_type": "code",
   "execution_count": null,
   "metadata": {},
   "outputs": [],
   "source": [
    "history = vggnet.fit_generator(train_generator,\n",
    "                              steps_per_epoch=100,\n",
    "                              epochs=30,\n",
    "                              validation_data=validation_generator,\n",
    "                              validation_steps=50)\n",
    "        \n",
    "vggnet.save('./models/cats_and_dogs_vggnet.h5')"
   ]
  },
  {
   "cell_type": "code",
   "execution_count": null,
   "metadata": {},
   "outputs": [],
   "source": [
    "acc = history.history['acc']\n",
    "val_acc = history.history['val_acc']\n",
    "loss = history.history['loss']\n",
    "val_loss = history.history['val_loss']\n",
    "\n",
    "epochs = range(1, len(acc) + 1)\n",
    "\n",
    "plt.plot(epochs, acc, 'bo', label='Training acc')\n",
    "plt.plot(epochs, val_acc, 'b', label='Validation acc')\n",
    "plt.title('Training and validation accuracy')\n",
    "plt.legend()\n",
    "\n",
    "plt.figure()\n",
    "\n",
    "plt.plot(epochs, loss, 'bo', label='Training loss')\n",
    "plt.plot(epochs, val_loss, 'b', label='Validation loss')\n",
    "plt.title('Training and validation loss')\n",
    "plt.legend()\n",
    "\n",
    "plt.show()"
   ]
  }
 ],
 "metadata": {
  "kernelspec": {
   "display_name": "Python 3.9.7 ('tf26')",
   "language": "python",
   "name": "python3"
  },
  "language_info": {
   "codemirror_mode": {
    "name": "ipython",
    "version": 3
   },
   "file_extension": ".py",
   "mimetype": "text/x-python",
   "name": "python",
   "nbconvert_exporter": "python",
   "pygments_lexer": "ipython3",
   "version": "3.9.7"
  },
  "orig_nbformat": 4,
  "vscode": {
   "interpreter": {
    "hash": "1e329751ad3fbc78699a5e88abe00d39aafe605dca43acf9894240e004a03697"
   }
  }
 },
 "nbformat": 4,
 "nbformat_minor": 2
}
