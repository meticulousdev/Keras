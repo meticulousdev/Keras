{
 "cells": [
  {
   "cell_type": "code",
   "execution_count": 1,
   "metadata": {},
   "outputs": [],
   "source": [
    "import os\n",
    "import numpy as np\n",
    "\n",
    "from tensorflow.keras.models import Sequential\n",
    "from tensorflow.keras import layers"
   ]
  },
  {
   "cell_type": "code",
   "execution_count": 2,
   "metadata": {},
   "outputs": [],
   "source": [
    "import time\n",
    "start = time.time()"
   ]
  },
  {
   "cell_type": "code",
   "execution_count": 3,
   "metadata": {},
   "outputs": [],
   "source": [
    "data_dir = './datasets/jena_climate/'\n",
    "fname = os.path.join(data_dir, 'jena_climate_2009_2016.csv')\n",
    "\n",
    "f = open(fname)\n",
    "data = f.read()\n",
    "f.close()\n",
    "\n",
    "lines = data.split('\\n')\n",
    "header = lines[0].split(',')\n",
    "lines = lines[1:]"
   ]
  },
  {
   "cell_type": "code",
   "execution_count": 4,
   "metadata": {},
   "outputs": [],
   "source": [
    "float_data = np.zeros((len(lines), len(header) - 1))\n",
    "for i, line in enumerate(lines):\n",
    "    values = [float(x) for x in line.split(',')[1:]]\n",
    "    float_data[i, :] = values"
   ]
  },
  {
   "cell_type": "code",
   "execution_count": 5,
   "metadata": {},
   "outputs": [],
   "source": [
    "mean = float_data[:200000].mean(axis=0)\n",
    "float_data -= mean\n",
    "std = float_data[:200000].std(axis=0)\n",
    "float_data /= std"
   ]
  },
  {
   "cell_type": "code",
   "execution_count": 6,
   "metadata": {},
   "outputs": [],
   "source": [
    "def generator(data, lookback, delay, min_index, max_index,\n",
    "              shuffle=False, batch_size=128, step=6):\n",
    "    if max_index is None:\n",
    "        max_index = len(data) - delay - 1\n",
    "    i = min_index + lookback\n",
    "    while 1:\n",
    "        if shuffle:\n",
    "            rows = np.random.randint(\n",
    "                min_index + lookback, max_index, size=batch_size)\n",
    "        else:\n",
    "            if i + batch_size >= max_index:\n",
    "                i = min_index + lookback\n",
    "            rows = np.arange(i, min(i + batch_size, max_index))\n",
    "            i += len(rows)\n",
    "\n",
    "        samples = np.zeros((len(rows),\n",
    "                           lookback // step,\n",
    "                           data.shape[-1]))\n",
    "        targets = np.zeros((len(rows),))\n",
    "        for j, row in enumerate(rows):\n",
    "            indices = range(rows[j] - lookback, rows[j], step)\n",
    "            samples[j] = data[indices]\n",
    "            targets[j] = data[rows[j] + delay][1]\n",
    "        yield samples, targets"
   ]
  },
  {
   "cell_type": "code",
   "execution_count": 7,
   "metadata": {},
   "outputs": [],
   "source": [
    "lookback = 1440\n",
    "step = 6\n",
    "delay = 144\n",
    "batch_size = 128\n",
    "\n",
    "train_gen = generator(float_data,\n",
    "                      lookback=lookback,\n",
    "                      delay=delay,\n",
    "                      min_index=0,\n",
    "                      max_index=200000,\n",
    "                      shuffle=True,\n",
    "                      step=step, \n",
    "                      batch_size=batch_size)\n",
    "val_gen = generator(float_data,\n",
    "                    lookback=lookback,\n",
    "                    delay=delay,\n",
    "                    min_index=200001,\n",
    "                    max_index=300000,\n",
    "                    step=step,\n",
    "                    batch_size=batch_size)\n",
    "test_gen = generator(float_data,\n",
    "                     lookback=lookback,\n",
    "                     delay=delay,\n",
    "                     min_index=300001,\n",
    "                     max_index=None,\n",
    "                     step=step,\n",
    "                     batch_size=batch_size)\n",
    "\n",
    "val_steps = (300000 - 200001 - lookback) // batch_size\n",
    "\n",
    "test_steps = (len(float_data) - 300001 - lookback) // batch_size"
   ]
  },
  {
   "cell_type": "code",
   "execution_count": 8,
   "metadata": {},
   "outputs": [
    {
     "name": "stderr",
     "output_type": "stream",
     "text": [
      "c:\\Users\\ADmin\\anaconda3\\envs\\tf26\\lib\\site-packages\\keras\\engine\\training.py:1972: UserWarning: `Model.fit_generator` is deprecated and will be removed in a future version. Please use `Model.fit`, which supports generators.\n",
      "  warnings.warn('`Model.fit_generator` is deprecated and '\n"
     ]
    },
    {
     "name": "stdout",
     "output_type": "stream",
     "text": [
      "Epoch 1/40\n",
      "500/500 [==============================] - 51s 100ms/step - loss: 0.3010 - val_loss: 0.2748\n",
      "Epoch 2/40\n",
      "500/500 [==============================] - 50s 100ms/step - loss: 0.2845 - val_loss: 0.2654\n",
      "Epoch 3/40\n",
      "500/500 [==============================] - 49s 99ms/step - loss: 0.2780 - val_loss: 0.2688\n",
      "Epoch 4/40\n",
      "500/500 [==============================] - 50s 101ms/step - loss: 0.2732 - val_loss: 0.2644\n",
      "Epoch 5/40\n",
      "500/500 [==============================] - 49s 99ms/step - loss: 0.2684 - val_loss: 0.2659\n",
      "Epoch 6/40\n",
      "500/500 [==============================] - 49s 98ms/step - loss: 0.2624 - val_loss: 0.2617\n",
      "Epoch 7/40\n",
      "500/500 [==============================] - 49s 97ms/step - loss: 0.2584 - val_loss: 0.2678\n",
      "Epoch 8/40\n",
      "500/500 [==============================] - 49s 98ms/step - loss: 0.2539 - val_loss: 0.2701\n",
      "Epoch 9/40\n",
      "500/500 [==============================] - 48s 97ms/step - loss: 0.2507 - val_loss: 0.2753\n",
      "Epoch 10/40\n",
      "500/500 [==============================] - 50s 100ms/step - loss: 0.2457 - val_loss: 0.2771\n",
      "Epoch 11/40\n",
      "500/500 [==============================] - 51s 103ms/step - loss: 0.2399 - val_loss: 0.2806\n",
      "Epoch 12/40\n",
      "500/500 [==============================] - 50s 100ms/step - loss: 0.2357 - val_loss: 0.2807\n",
      "Epoch 13/40\n",
      "500/500 [==============================] - 50s 100ms/step - loss: 0.2309 - val_loss: 0.2893\n",
      "Epoch 14/40\n",
      "500/500 [==============================] - 49s 99ms/step - loss: 0.2282 - val_loss: 0.2913\n",
      "Epoch 15/40\n",
      "500/500 [==============================] - 50s 100ms/step - loss: 0.2244 - val_loss: 0.2893\n",
      "Epoch 16/40\n",
      "500/500 [==============================] - 50s 99ms/step - loss: 0.2198 - val_loss: 0.2915\n",
      "Epoch 17/40\n",
      "500/500 [==============================] - 49s 99ms/step - loss: 0.2177 - val_loss: 0.2899\n",
      "Epoch 18/40\n",
      "500/500 [==============================] - 48s 96ms/step - loss: 0.2151 - val_loss: 0.2962\n",
      "Epoch 19/40\n",
      "500/500 [==============================] - 48s 97ms/step - loss: 0.2126 - val_loss: 0.2949\n",
      "Epoch 20/40\n",
      "500/500 [==============================] - 49s 99ms/step - loss: 0.2086 - val_loss: 0.2975\n",
      "Epoch 21/40\n",
      "500/500 [==============================] - 48s 97ms/step - loss: 0.2060 - val_loss: 0.3049\n",
      "Epoch 22/40\n",
      "500/500 [==============================] - 48s 97ms/step - loss: 0.2036 - val_loss: 0.3026\n",
      "Epoch 23/40\n",
      "500/500 [==============================] - 50s 99ms/step - loss: 0.2018 - val_loss: 0.3068\n",
      "Epoch 24/40\n",
      "500/500 [==============================] - 49s 98ms/step - loss: 0.1997 - val_loss: 0.3052\n",
      "Epoch 25/40\n",
      "500/500 [==============================] - 49s 98ms/step - loss: 0.1965 - val_loss: 0.3053\n",
      "Epoch 26/40\n",
      "500/500 [==============================] - 49s 97ms/step - loss: 0.1950 - val_loss: 0.3070\n",
      "Epoch 27/40\n",
      "500/500 [==============================] - 49s 98ms/step - loss: 0.1920 - val_loss: 0.3059\n",
      "Epoch 28/40\n",
      "500/500 [==============================] - 48s 97ms/step - loss: 0.1913 - val_loss: 0.3122\n",
      "Epoch 29/40\n",
      "500/500 [==============================] - 49s 97ms/step - loss: 0.1902 - val_loss: 0.3097\n",
      "Epoch 30/40\n",
      "500/500 [==============================] - 48s 97ms/step - loss: 0.1881 - val_loss: 0.3117\n",
      "Epoch 31/40\n",
      "500/500 [==============================] - 48s 96ms/step - loss: 0.1872 - val_loss: 0.3136\n",
      "Epoch 32/40\n",
      "500/500 [==============================] - 49s 97ms/step - loss: 0.1853 - val_loss: 0.3151\n",
      "Epoch 33/40\n",
      "500/500 [==============================] - 49s 98ms/step - loss: 0.1831 - val_loss: 0.3197\n",
      "Epoch 34/40\n",
      "500/500 [==============================] - 49s 97ms/step - loss: 0.1828 - val_loss: 0.3214\n",
      "Epoch 35/40\n",
      "500/500 [==============================] - 50s 100ms/step - loss: 0.1816 - val_loss: 0.3172\n",
      "Epoch 36/40\n",
      "500/500 [==============================] - 49s 98ms/step - loss: 0.1799 - val_loss: 0.3195\n",
      "Epoch 37/40\n",
      "500/500 [==============================] - 49s 98ms/step - loss: 0.1792 - val_loss: 0.3191\n",
      "Epoch 38/40\n",
      "500/500 [==============================] - 50s 99ms/step - loss: 0.1779 - val_loss: 0.3203\n",
      "Epoch 39/40\n",
      "500/500 [==============================] - 49s 98ms/step - loss: 0.1760 - val_loss: 0.3195\n",
      "Epoch 40/40\n",
      "500/500 [==============================] - 48s 97ms/step - loss: 0.1755 - val_loss: 0.3255\n"
     ]
    }
   ],
   "source": [
    "model = Sequential()\n",
    "model.add(layers.GRU(32,\n",
    "                     #dropout=0.2,    # cuDNN을 사용할 수 없기 때문에 (???)\n",
    "                     #recurrent_dropout=0.2,\n",
    "                     input_shape=(None, float_data.shape[-1])))\n",
    "model.add(layers.Dense(1))\n",
    "\n",
    "model.compile(optimizer='rmsprop', loss='mae')\n",
    "history = model.fit_generator(train_gen,\n",
    "                              steps_per_epoch=500,\n",
    "                              epochs=40,\n",
    "                              validation_data=val_gen,\n",
    "                              validation_steps=val_steps)"
   ]
  },
  {
   "cell_type": "code",
   "execution_count": 9,
   "metadata": {},
   "outputs": [
    {
     "data": {
      "image/png": "[encoded data removed]",
      "text/plain": [
       "<Figure size 432x288 with 1 Axes>"
      ]
     },
     "metadata": {
      "needs_background": "light"
     },
     "output_type": "display_data"
    }
   ],
   "source": [
    "import matplotlib.pyplot as plt\n",
    "\n",
    "loss = history.history['loss']\n",
    "val_loss = history.history['val_loss']\n",
    "\n",
    "epochs = range(1, len(loss) + 1)\n",
    "\n",
    "plt.figure()\n",
    "\n",
    "plt.plot(epochs, loss, 'bo', label='Training loss')\n",
    "plt.plot(epochs, val_loss, 'b', label='Validation loss')\n",
    "plt.title('Training and validation loss')\n",
    "plt.legend()\n",
    "\n",
    "plt.show()"
   ]
  },
  {
   "cell_type": "code",
   "execution_count": 10,
   "metadata": {},
   "outputs": [
    {
     "name": "stdout",
     "output_type": "stream",
     "text": [
      "elapsed time: 1971.2558133602142\n"
     ]
    }
   ],
   "source": [
    "print(f\"elapsed time: {time.time() - start}\")"
   ]
  }
 ],
 "metadata": {
  "kernelspec": {
   "display_name": "Python 3.9.7 ('tf26')",
   "language": "python",
   "name": "python3"
  },
  "language_info": {
   "codemirror_mode": {
    "name": "ipython",
    "version": 3
   },
   "file_extension": ".py",
   "mimetype": "text/x-python",
   "name": "python",
   "nbconvert_exporter": "python",
   "pygments_lexer": "ipython3",
   "version": "3.9.7"
  },
  "orig_nbformat": 4,
  "vscode": {
   "interpreter": {
    "hash": "ad58c928f09b19558d9145941e1fbb8f707bd1f52c565dc55011bfbe7360f20d"
   }
  }
 },
 "nbformat": 4,
 "nbformat_minor": 2
}
