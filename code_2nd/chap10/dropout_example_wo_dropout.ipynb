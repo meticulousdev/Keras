{
 "cells": [
  {
   "cell_type": "code",
   "execution_count": 1,
   "metadata": {},
   "outputs": [],
   "source": [
    "import os\n",
    "data_dir = './datasets/jena_climate/'\n",
    "fname = os.path.join(data_dir, 'jena_climate_2009_2016.csv')"
   ]
  },
  {
   "cell_type": "code",
   "execution_count": 2,
   "metadata": {},
   "outputs": [
    {
     "name": "stdout",
     "output_type": "stream",
     "text": [
      "header: \n",
      "['\"Date Time\"', '\"p (mbar)\"', '\"T (degC)\"', '\"Tpot (K)\"', '\"Tdew (degC)\"', '\"rh (%)\"', '\"VPmax (mbar)\"', '\"VPact (mbar)\"', '\"VPdef (mbar)\"', '\"sh (g/kg)\"', '\"H2OC (mmol/mol)\"', '\"rho (g/m**3)\"', '\"wv (m/s)\"', '\"max. wv (m/s)\"', '\"wd (deg)\"']\n",
      "\n",
      "line length: 420451\n"
     ]
    }
   ],
   "source": [
    "f = open(fname)\n",
    "data = f.read()\n",
    "f.close()\n",
    "\n",
    "lines = data.split('\\n')\n",
    "header = lines[0].split(',')\n",
    "lines = lines[1:]\n",
    "\n",
    "print(f\"header: \\n{header}\\n\")\n",
    "print(f\"line length: {len(lines)}\")"
   ]
  },
  {
   "cell_type": "code",
   "execution_count": 3,
   "metadata": {},
   "outputs": [],
   "source": [
    "import numpy as np\n",
    "temperature = np.zeros((len(lines),))\n",
    "raw_data = np.zeros((len(lines), len(header) - 1))\n",
    "for i, line in enumerate(lines):\n",
    "    values = [float(x) for x in line.split(\",\")[1:]]\n",
    "    temperature[i] = values[1]\n",
    "    raw_data[i, :] = values[:]"
   ]
  },
  {
   "cell_type": "code",
   "execution_count": 4,
   "metadata": {},
   "outputs": [
    {
     "name": "stdout",
     "output_type": "stream",
     "text": [
      "num_train_samples: 210225\n",
      "num_val_samples: 105112\n",
      "num_test_samples: 105114\n"
     ]
    }
   ],
   "source": [
    "num_train_samples = int(0.5 * len(raw_data))\n",
    "num_val_samples = int(0.25 * len(raw_data))\n",
    "num_test_samples = len(raw_data) - num_train_samples - num_val_samples\n",
    "\n",
    "print(\"num_train_samples:\", num_train_samples)\n",
    "print(\"num_val_samples:\", num_val_samples)\n",
    "print(\"num_test_samples:\", num_test_samples)"
   ]
  },
  {
   "cell_type": "code",
   "execution_count": 5,
   "metadata": {},
   "outputs": [],
   "source": [
    "mean = raw_data[:num_train_samples].mean(axis=0)\n",
    "raw_data -= mean\n",
    "std = raw_data[:num_train_samples].std(axis=0)\n",
    "raw_data /= std"
   ]
  },
  {
   "cell_type": "code",
   "execution_count": 6,
   "metadata": {},
   "outputs": [],
   "source": [
    "import numpy as np\n",
    "from tensorflow import keras"
   ]
  },
  {
   "cell_type": "code",
   "execution_count": 7,
   "metadata": {},
   "outputs": [],
   "source": [
    "sampling_rate = 6\n",
    "sequence_length = 120\n",
    "delay = sampling_rate * (sequence_length + 24 - 1)\n",
    "batch_size = 256\n",
    "\n",
    "train_dataset = keras.utils.timeseries_dataset_from_array(\n",
    "    raw_data[:-delay],\n",
    "    targets=temperature[delay:],\n",
    "    sampling_rate=sampling_rate,\n",
    "    sequence_length=sequence_length,\n",
    "    shuffle=True,\n",
    "    batch_size=batch_size,\n",
    "    start_index=0,\n",
    "    end_index=num_train_samples)\n",
    "\n",
    "val_dataset = keras.utils.timeseries_dataset_from_array(\n",
    "    raw_data[:-delay],\n",
    "    targets=temperature[delay:],\n",
    "    sampling_rate=sampling_rate,\n",
    "    sequence_length=sequence_length,\n",
    "    shuffle=True,\n",
    "    batch_size=batch_size,\n",
    "    start_index=num_train_samples,\n",
    "    end_index=num_train_samples + num_val_samples)\n",
    "\n",
    "test_dataset = keras.utils.timeseries_dataset_from_array(\n",
    "    raw_data[:-delay],\n",
    "    targets=temperature[delay:],\n",
    "    sampling_rate=sampling_rate,\n",
    "    sequence_length=sequence_length,\n",
    "    shuffle=True,\n",
    "    batch_size=batch_size,\n",
    "    start_index=num_train_samples + num_val_samples)"
   ]
  },
  {
   "cell_type": "code",
   "execution_count": 8,
   "metadata": {},
   "outputs": [
    {
     "name": "stdout",
     "output_type": "stream",
     "text": [
      "sample shape: (256, 120, 14)\n",
      "target shape: (256,)\n"
     ]
    }
   ],
   "source": [
    "for samples, targets in train_dataset:\n",
    "    print(\"sample shape:\", samples.shape)\n",
    "    print(\"target shape:\", targets.shape)\n",
    "    break"
   ]
  },
  {
   "cell_type": "code",
   "execution_count": 9,
   "metadata": {},
   "outputs": [],
   "source": [
    "from tensorflow import keras\n",
    "from tensorflow.keras import layers\n",
    "\n",
    "import matplotlib.pyplot as plt"
   ]
  },
  {
   "cell_type": "markdown",
   "metadata": {},
   "source": [
    "- 순환 드롭아웃(recurrent dropout)"
   ]
  },
  {
   "cell_type": "code",
   "execution_count": 10,
   "metadata": {},
   "outputs": [
    {
     "name": "stdout",
     "output_type": "stream",
     "text": [
      "Epoch 1/50\n",
      "819/819 [==============================] - 50s 59ms/step - loss: 23.2295 - mae: 3.4423 - val_loss: 9.5520 - val_mae: 2.3975\n",
      "Epoch 2/50\n",
      "819/819 [==============================] - 52s 64ms/step - loss: 9.2911 - mae: 2.3766 - val_loss: 9.6678 - val_mae: 2.4201\n",
      "Epoch 3/50\n",
      "819/819 [==============================] - 51s 62ms/step - loss: 8.4694 - mae: 2.2667 - val_loss: 9.7652 - val_mae: 2.4129\n",
      "Epoch 4/50\n",
      "819/819 [==============================] - 52s 63ms/step - loss: 7.8609 - mae: 2.1839 - val_loss: 10.1337 - val_mae: 2.4620\n",
      "Epoch 5/50\n",
      "819/819 [==============================] - 51s 62ms/step - loss: 7.5125 - mae: 2.1321 - val_loss: 10.3277 - val_mae: 2.4975\n",
      "Epoch 6/50\n",
      "819/819 [==============================] - 51s 62ms/step - loss: 7.1820 - mae: 2.0831 - val_loss: 11.4069 - val_mae: 2.5767\n",
      "Epoch 7/50\n",
      "819/819 [==============================] - 50s 61ms/step - loss: 6.9048 - mae: 2.0392 - val_loss: 10.5954 - val_mae: 2.5279\n",
      "Epoch 8/50\n",
      "819/819 [==============================] - 51s 62ms/step - loss: 6.6325 - mae: 1.9970 - val_loss: 11.4638 - val_mae: 2.6168\n",
      "Epoch 9/50\n",
      "819/819 [==============================] - 51s 62ms/step - loss: 6.3954 - mae: 1.9622 - val_loss: 10.9623 - val_mae: 2.5635\n",
      "Epoch 10/50\n",
      "819/819 [==============================] - 51s 62ms/step - loss: 6.1436 - mae: 1.9215 - val_loss: 11.1814 - val_mae: 2.5815\n",
      "Epoch 11/50\n",
      "819/819 [==============================] - 51s 62ms/step - loss: 5.9922 - mae: 1.9003 - val_loss: 11.3649 - val_mae: 2.6066\n",
      "Epoch 12/50\n",
      "819/819 [==============================] - 50s 62ms/step - loss: 5.8580 - mae: 1.8759 - val_loss: 11.6778 - val_mae: 2.6443\n",
      "Epoch 13/50\n",
      "819/819 [==============================] - 51s 62ms/step - loss: 5.8005 - mae: 1.8633 - val_loss: 11.4676 - val_mae: 2.6267\n",
      "Epoch 14/50\n",
      "819/819 [==============================] - 51s 62ms/step - loss: 5.6561 - mae: 1.8357 - val_loss: 11.7695 - val_mae: 2.6582\n",
      "Epoch 15/50\n",
      "819/819 [==============================] - 51s 62ms/step - loss: 5.3877 - mae: 1.7953 - val_loss: 11.6084 - val_mae: 2.6608\n",
      "Epoch 16/50\n",
      "819/819 [==============================] - 51s 62ms/step - loss: 5.2184 - mae: 1.7651 - val_loss: 12.0576 - val_mae: 2.6813\n",
      "Epoch 17/50\n",
      "819/819 [==============================] - 51s 62ms/step - loss: 5.1306 - mae: 1.7503 - val_loss: 12.3591 - val_mae: 2.7222\n",
      "Epoch 18/50\n",
      "819/819 [==============================] - 51s 62ms/step - loss: 5.0432 - mae: 1.7347 - val_loss: 12.3612 - val_mae: 2.7121\n",
      "Epoch 19/50\n",
      "819/819 [==============================] - 49s 60ms/step - loss: 4.9129 - mae: 1.7107 - val_loss: 12.4458 - val_mae: 2.7331\n",
      "Epoch 20/50\n",
      "819/819 [==============================] - 50s 61ms/step - loss: 4.7415 - mae: 1.6834 - val_loss: 12.6573 - val_mae: 2.7541\n",
      "Epoch 21/50\n",
      "819/819 [==============================] - 50s 61ms/step - loss: 4.6669 - mae: 1.6666 - val_loss: 12.3581 - val_mae: 2.7288\n",
      "Epoch 22/50\n",
      "819/819 [==============================] - 50s 61ms/step - loss: 4.5245 - mae: 1.6408 - val_loss: 12.6667 - val_mae: 2.7609\n",
      "Epoch 23/50\n",
      "819/819 [==============================] - 49s 60ms/step - loss: 4.4714 - mae: 1.6335 - val_loss: 12.8246 - val_mae: 2.7676\n",
      "Epoch 24/50\n",
      "819/819 [==============================] - 51s 62ms/step - loss: 4.3701 - mae: 1.6140 - val_loss: 12.8751 - val_mae: 2.7777\n",
      "Epoch 25/50\n",
      "819/819 [==============================] - 51s 62ms/step - loss: 4.3328 - mae: 1.6054 - val_loss: 12.7748 - val_mae: 2.7712\n",
      "Epoch 26/50\n",
      "819/819 [==============================] - 51s 62ms/step - loss: 4.2235 - mae: 1.5859 - val_loss: 12.9095 - val_mae: 2.7872\n",
      "Epoch 27/50\n",
      "819/819 [==============================] - 50s 61ms/step - loss: 4.1828 - mae: 1.5748 - val_loss: 13.2292 - val_mae: 2.8523\n",
      "Epoch 28/50\n",
      "819/819 [==============================] - 50s 61ms/step - loss: 4.1143 - mae: 1.5654 - val_loss: 12.8835 - val_mae: 2.7923\n",
      "Epoch 29/50\n",
      "819/819 [==============================] - 50s 61ms/step - loss: 4.0278 - mae: 1.5464 - val_loss: 13.7249 - val_mae: 2.8780\n",
      "Epoch 30/50\n",
      "819/819 [==============================] - 51s 62ms/step - loss: 3.9392 - mae: 1.5295 - val_loss: 13.1365 - val_mae: 2.8078\n",
      "Epoch 31/50\n",
      "819/819 [==============================] - 50s 61ms/step - loss: 3.9463 - mae: 1.5287 - val_loss: 12.9271 - val_mae: 2.7951\n",
      "Epoch 32/50\n",
      "819/819 [==============================] - 50s 61ms/step - loss: 3.8492 - mae: 1.5125 - val_loss: 13.2730 - val_mae: 2.8198\n",
      "Epoch 33/50\n",
      "819/819 [==============================] - 51s 62ms/step - loss: 3.8659 - mae: 1.5124 - val_loss: 13.4751 - val_mae: 2.8517\n",
      "Epoch 34/50\n",
      "819/819 [==============================] - 50s 62ms/step - loss: 3.7821 - mae: 1.4967 - val_loss: 13.5327 - val_mae: 2.8459\n",
      "Epoch 35/50\n",
      "819/819 [==============================] - 50s 61ms/step - loss: 3.8531 - mae: 1.5068 - val_loss: 13.3612 - val_mae: 2.8428\n",
      "Epoch 36/50\n",
      "819/819 [==============================] - 51s 63ms/step - loss: 3.6771 - mae: 1.4778 - val_loss: 13.4203 - val_mae: 2.8396\n",
      "Epoch 37/50\n",
      "819/819 [==============================] - 51s 62ms/step - loss: 3.6126 - mae: 1.4646 - val_loss: 13.1410 - val_mae: 2.8199\n",
      "Epoch 38/50\n",
      "819/819 [==============================] - 50s 61ms/step - loss: 3.6249 - mae: 1.4657 - val_loss: 13.3472 - val_mae: 2.8434\n",
      "Epoch 39/50\n",
      "819/819 [==============================] - 51s 62ms/step - loss: 3.4950 - mae: 1.4417 - val_loss: 13.1405 - val_mae: 2.8359\n",
      "Epoch 40/50\n",
      "819/819 [==============================] - 50s 61ms/step - loss: 3.5208 - mae: 1.4459 - val_loss: 13.2339 - val_mae: 2.8502\n",
      "Epoch 41/50\n",
      "819/819 [==============================] - 50s 61ms/step - loss: 3.4836 - mae: 1.4374 - val_loss: 13.3420 - val_mae: 2.8403\n",
      "Epoch 42/50\n",
      "819/819 [==============================] - 51s 62ms/step - loss: 3.4174 - mae: 1.4270 - val_loss: 13.9722 - val_mae: 2.8956\n",
      "Epoch 43/50\n",
      "819/819 [==============================] - 50s 61ms/step - loss: 3.3757 - mae: 1.4178 - val_loss: 13.8869 - val_mae: 2.9069\n",
      "Epoch 44/50\n",
      "819/819 [==============================] - 51s 62ms/step - loss: 3.3519 - mae: 1.4135 - val_loss: 13.4735 - val_mae: 2.8636\n",
      "Epoch 45/50\n",
      "819/819 [==============================] - 51s 62ms/step - loss: 3.3352 - mae: 1.4073 - val_loss: 13.9084 - val_mae: 2.8868\n",
      "Epoch 46/50\n",
      "819/819 [==============================] - 51s 62ms/step - loss: 3.2741 - mae: 1.3976 - val_loss: 14.0540 - val_mae: 2.9140\n",
      "Epoch 47/50\n",
      "819/819 [==============================] - 50s 61ms/step - loss: 3.2795 - mae: 1.3971 - val_loss: 13.9822 - val_mae: 2.9264\n",
      "Epoch 48/50\n",
      "819/819 [==============================] - 51s 62ms/step - loss: 3.2550 - mae: 1.3925 - val_loss: 13.7877 - val_mae: 2.8884\n",
      "Epoch 49/50\n",
      "819/819 [==============================] - 51s 62ms/step - loss: 3.1964 - mae: 1.3804 - val_loss: 14.1129 - val_mae: 2.9222\n",
      "Epoch 50/50\n",
      "819/819 [==============================] - 50s 61ms/step - loss: 3.1615 - mae: 1.3731 - val_loss: 13.7242 - val_mae: 2.8949\n"
     ]
    }
   ],
   "source": [
    "inputs = keras.Input(shape=(sequence_length, raw_data.shape[-1]))\n",
    "x = layers.LSTM(32)(inputs)\n",
    "outputs = layers.Dense(1)(x)\n",
    "model = keras.Model(inputs, outputs)\n",
    "\n",
    "callbacks = [\n",
    "    keras.callbacks.ModelCheckpoint(\"jena_lstm_dropout.keras\",\n",
    "                                    save_best_only=True)\n",
    "]\n",
    "model.compile(optimizer=\"rmsprop\", loss=\"mse\", metrics=[\"mae\"])\n",
    "history = model.fit(train_dataset,\n",
    "                    epochs=50,\n",
    "                    validation_data=val_dataset,\n",
    "                    callbacks=callbacks)"
   ]
  },
  {
   "cell_type": "code",
   "execution_count": 11,
   "metadata": {},
   "outputs": [],
   "source": [
    "# inputs = keras.Input(shape=(sequence_length, raw_data.shape[-1]))\n",
    "# #x = layers.LSTM(32, recurrent_dropout=0.25)(inputs)\n",
    "# x = layers.LSTM(32)(inputs)\n",
    "# x = layers.Dropout(0.5)(x)\n",
    "# outputs = layers.Dense(1)(x)\n",
    "# model = keras.Model(inputs, outputs)\n",
    "\n",
    "# callbacks = [\n",
    "#     keras.callbacks.ModelCheckpoint(\"jena_lstm_dropout.keras\",\n",
    "#                                     save_best_only=True)\n",
    "# ]\n",
    "# model.compile(optimizer=\"rmsprop\", loss=\"mse\", metrics=[\"mae\"])\n",
    "# history = model.fit(train_dataset,\n",
    "#                     epochs=50,\n",
    "#                     validation_data=val_dataset,\n",
    "#                     callbacks=callbacks)"
   ]
  },
  {
   "cell_type": "code",
   "execution_count": 12,
   "metadata": {},
   "outputs": [
    {
     "data": {
      "image/png": "[encoded data removed]",
      "text/plain": [
       "<Figure size 432x288 with 1 Axes>"
      ]
     },
     "metadata": {
      "needs_background": "light"
     },
     "output_type": "display_data"
    }
   ],
   "source": [
    "loss = history.history[\"mae\"]\n",
    "val_loss = history.history[\"val_mae\"]\n",
    "epochs = range(1, len(loss) + 1)\n",
    "plt.figure()\n",
    "plt.plot(epochs, loss, \"bo\", label=\"Training MAE\")\n",
    "plt.plot(epochs, val_loss, \"b\", label=\"Validation MAE\")\n",
    "plt.title(\"Training and validation MAE\")\n",
    "plt.legend()\n",
    "plt.show()"
   ]
  }
 ],
 "metadata": {
  "kernelspec": {
   "display_name": "Python 3.9.7 ('tf26')",
   "language": "python",
   "name": "python3"
  },
  "language_info": {
   "codemirror_mode": {
    "name": "ipython",
    "version": 3
   },
   "file_extension": ".py",
   "mimetype": "text/x-python",
   "name": "python",
   "nbconvert_exporter": "python",
   "pygments_lexer": "ipython3",
   "version": "3.9.7"
  },
  "orig_nbformat": 4,
  "vscode": {
   "interpreter": {
    "hash": "ad58c928f09b19558d9145941e1fbb8f707bd1f52c565dc55011bfbe7360f20d"
   }
  }
 },
 "nbformat": 4,
 "nbformat_minor": 2
}
