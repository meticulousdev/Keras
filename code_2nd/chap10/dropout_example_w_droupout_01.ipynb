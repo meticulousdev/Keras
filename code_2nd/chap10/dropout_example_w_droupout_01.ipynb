{
 "cells": [
  {
   "cell_type": "code",
   "execution_count": 1,
   "metadata": {},
   "outputs": [],
   "source": [
    "import os\n",
    "data_dir = './datasets/jena_climate/'\n",
    "fname = os.path.join(data_dir, 'jena_climate_2009_2016.csv')"
   ]
  },
  {
   "cell_type": "code",
   "execution_count": 2,
   "metadata": {},
   "outputs": [
    {
     "name": "stdout",
     "output_type": "stream",
     "text": [
      "header: \n",
      "['\"Date Time\"', '\"p (mbar)\"', '\"T (degC)\"', '\"Tpot (K)\"', '\"Tdew (degC)\"', '\"rh (%)\"', '\"VPmax (mbar)\"', '\"VPact (mbar)\"', '\"VPdef (mbar)\"', '\"sh (g/kg)\"', '\"H2OC (mmol/mol)\"', '\"rho (g/m**3)\"', '\"wv (m/s)\"', '\"max. wv (m/s)\"', '\"wd (deg)\"']\n",
      "\n",
      "line length: 420451\n"
     ]
    }
   ],
   "source": [
    "f = open(fname)\n",
    "data = f.read()\n",
    "f.close()\n",
    "\n",
    "lines = data.split('\\n')\n",
    "header = lines[0].split(',')\n",
    "lines = lines[1:]\n",
    "\n",
    "print(f\"header: \\n{header}\\n\")\n",
    "print(f\"line length: {len(lines)}\")"
   ]
  },
  {
   "cell_type": "code",
   "execution_count": 3,
   "metadata": {},
   "outputs": [],
   "source": [
    "import numpy as np\n",
    "temperature = np.zeros((len(lines),))\n",
    "raw_data = np.zeros((len(lines), len(header) - 1))\n",
    "for i, line in enumerate(lines):\n",
    "    values = [float(x) for x in line.split(\",\")[1:]]\n",
    "    temperature[i] = values[1]\n",
    "    raw_data[i, :] = values[:]"
   ]
  },
  {
   "cell_type": "code",
   "execution_count": 4,
   "metadata": {},
   "outputs": [
    {
     "name": "stdout",
     "output_type": "stream",
     "text": [
      "num_train_samples: 210225\n",
      "num_val_samples: 105112\n",
      "num_test_samples: 105114\n"
     ]
    }
   ],
   "source": [
    "num_train_samples = int(0.5 * len(raw_data))\n",
    "num_val_samples = int(0.25 * len(raw_data))\n",
    "num_test_samples = len(raw_data) - num_train_samples - num_val_samples\n",
    "\n",
    "print(\"num_train_samples:\", num_train_samples)\n",
    "print(\"num_val_samples:\", num_val_samples)\n",
    "print(\"num_test_samples:\", num_test_samples)"
   ]
  },
  {
   "cell_type": "code",
   "execution_count": 5,
   "metadata": {},
   "outputs": [],
   "source": [
    "mean = raw_data[:num_train_samples].mean(axis=0)\n",
    "raw_data -= mean\n",
    "std = raw_data[:num_train_samples].std(axis=0)\n",
    "raw_data /= std"
   ]
  },
  {
   "cell_type": "code",
   "execution_count": 6,
   "metadata": {},
   "outputs": [],
   "source": [
    "import numpy as np\n",
    "from tensorflow import keras"
   ]
  },
  {
   "cell_type": "code",
   "execution_count": 7,
   "metadata": {},
   "outputs": [],
   "source": [
    "sampling_rate = 6\n",
    "sequence_length = 120\n",
    "delay = sampling_rate * (sequence_length + 24 - 1)\n",
    "batch_size = 256\n",
    "\n",
    "train_dataset = keras.utils.timeseries_dataset_from_array(\n",
    "    raw_data[:-delay],\n",
    "    targets=temperature[delay:],\n",
    "    sampling_rate=sampling_rate,\n",
    "    sequence_length=sequence_length,\n",
    "    shuffle=True,\n",
    "    batch_size=batch_size,\n",
    "    start_index=0,\n",
    "    end_index=num_train_samples)\n",
    "\n",
    "val_dataset = keras.utils.timeseries_dataset_from_array(\n",
    "    raw_data[:-delay],\n",
    "    targets=temperature[delay:],\n",
    "    sampling_rate=sampling_rate,\n",
    "    sequence_length=sequence_length,\n",
    "    shuffle=True,\n",
    "    batch_size=batch_size,\n",
    "    start_index=num_train_samples,\n",
    "    end_index=num_train_samples + num_val_samples)\n",
    "\n",
    "test_dataset = keras.utils.timeseries_dataset_from_array(\n",
    "    raw_data[:-delay],\n",
    "    targets=temperature[delay:],\n",
    "    sampling_rate=sampling_rate,\n",
    "    sequence_length=sequence_length,\n",
    "    shuffle=True,\n",
    "    batch_size=batch_size,\n",
    "    start_index=num_train_samples + num_val_samples)"
   ]
  },
  {
   "cell_type": "code",
   "execution_count": 8,
   "metadata": {},
   "outputs": [
    {
     "name": "stdout",
     "output_type": "stream",
     "text": [
      "sample shape: (256, 120, 14)\n",
      "target shape: (256,)\n"
     ]
    }
   ],
   "source": [
    "for samples, targets in train_dataset:\n",
    "    print(\"sample shape:\", samples.shape)\n",
    "    print(\"target shape:\", targets.shape)\n",
    "    break"
   ]
  },
  {
   "cell_type": "code",
   "execution_count": 9,
   "metadata": {},
   "outputs": [],
   "source": [
    "from tensorflow import keras\n",
    "from tensorflow.keras import layers\n",
    "\n",
    "import matplotlib.pyplot as plt"
   ]
  },
  {
   "cell_type": "markdown",
   "metadata": {},
   "source": [
    "- 순환 드롭아웃(recurrent dropout)"
   ]
  },
  {
   "cell_type": "code",
   "execution_count": 11,
   "metadata": {},
   "outputs": [
    {
     "name": "stdout",
     "output_type": "stream",
     "text": [
      "Epoch 1/50\n",
      "819/819 [==============================] - 52s 63ms/step - loss: 29.2186 - mae: 3.9727 - val_loss: 9.8189 - val_mae: 2.4339\n",
      "Epoch 2/50\n",
      "819/819 [==============================] - 51s 62ms/step - loss: 14.5817 - mae: 2.9657 - val_loss: 9.5182 - val_mae: 2.3965\n",
      "Epoch 3/50\n",
      "819/819 [==============================] - 54s 65ms/step - loss: 13.5758 - mae: 2.8523 - val_loss: 9.2350 - val_mae: 2.3702\n",
      "Epoch 4/50\n",
      "819/819 [==============================] - 52s 64ms/step - loss: 12.9432 - mae: 2.7764 - val_loss: 9.6309 - val_mae: 2.4225\n",
      "Epoch 5/50\n",
      "819/819 [==============================] - 53s 65ms/step - loss: 12.4951 - mae: 2.7269 - val_loss: 9.4954 - val_mae: 2.4104\n",
      "Epoch 6/50\n",
      "819/819 [==============================] - 53s 65ms/step - loss: 11.9687 - mae: 2.6702 - val_loss: 9.4613 - val_mae: 2.4165\n",
      "Epoch 7/50\n",
      "819/819 [==============================] - 54s 66ms/step - loss: 11.5764 - mae: 2.6266 - val_loss: 9.9252 - val_mae: 2.4816\n",
      "Epoch 8/50\n",
      "819/819 [==============================] - 53s 65ms/step - loss: 11.2262 - mae: 2.5842 - val_loss: 9.7417 - val_mae: 2.4461\n",
      "Epoch 9/50\n",
      "819/819 [==============================] - 52s 63ms/step - loss: 10.9968 - mae: 2.5576 - val_loss: 9.5751 - val_mae: 2.4150\n",
      "Epoch 10/50\n",
      "819/819 [==============================] - 52s 63ms/step - loss: 10.7602 - mae: 2.5254 - val_loss: 9.6831 - val_mae: 2.4339\n",
      "Epoch 11/50\n",
      "819/819 [==============================] - 51s 63ms/step - loss: 10.4477 - mae: 2.4904 - val_loss: 10.0596 - val_mae: 2.4836\n",
      "Epoch 12/50\n",
      "819/819 [==============================] - 51s 62ms/step - loss: 10.2048 - mae: 2.4614 - val_loss: 10.1083 - val_mae: 2.4884\n",
      "Epoch 13/50\n",
      "819/819 [==============================] - 51s 62ms/step - loss: 10.0445 - mae: 2.4412 - val_loss: 10.2312 - val_mae: 2.5048\n",
      "Epoch 14/50\n",
      "819/819 [==============================] - 52s 63ms/step - loss: 9.8129 - mae: 2.4154 - val_loss: 10.1987 - val_mae: 2.5025\n",
      "Epoch 15/50\n",
      "819/819 [==============================] - 52s 63ms/step - loss: 9.6340 - mae: 2.3934 - val_loss: 10.6432 - val_mae: 2.5754\n",
      "Epoch 16/50\n",
      "819/819 [==============================] - 52s 63ms/step - loss: 9.5156 - mae: 2.3799 - val_loss: 10.6589 - val_mae: 2.5562\n",
      "Epoch 17/50\n",
      "819/819 [==============================] - 51s 62ms/step - loss: 9.3572 - mae: 2.3585 - val_loss: 10.7674 - val_mae: 2.5702\n",
      "Epoch 18/50\n",
      "819/819 [==============================] - 52s 63ms/step - loss: 9.2296 - mae: 2.3434 - val_loss: 10.7053 - val_mae: 2.5662\n",
      "Epoch 19/50\n",
      "819/819 [==============================] - 51s 63ms/step - loss: 9.0970 - mae: 2.3284 - val_loss: 10.8269 - val_mae: 2.5808\n",
      "Epoch 20/50\n",
      "819/819 [==============================] - 52s 63ms/step - loss: 8.9966 - mae: 2.3163 - val_loss: 10.7310 - val_mae: 2.5757\n",
      "Epoch 21/50\n",
      "819/819 [==============================] - 53s 65ms/step - loss: 8.8508 - mae: 2.2992 - val_loss: 11.3584 - val_mae: 2.6380\n",
      "Epoch 22/50\n",
      "819/819 [==============================] - 54s 65ms/step - loss: 8.7876 - mae: 2.2897 - val_loss: 11.3088 - val_mae: 2.6408\n",
      "Epoch 23/50\n",
      "819/819 [==============================] - 54s 66ms/step - loss: 8.6818 - mae: 2.2763 - val_loss: 11.2215 - val_mae: 2.6241\n",
      "Epoch 24/50\n",
      "819/819 [==============================] - 54s 66ms/step - loss: 8.6152 - mae: 2.2713 - val_loss: 11.4863 - val_mae: 2.6501\n",
      "Epoch 25/50\n",
      "819/819 [==============================] - 54s 66ms/step - loss: 8.5503 - mae: 2.2577 - val_loss: 11.1350 - val_mae: 2.6229\n",
      "Epoch 26/50\n",
      "819/819 [==============================] - 54s 65ms/step - loss: 8.4778 - mae: 2.2492 - val_loss: 11.4772 - val_mae: 2.6506\n",
      "Epoch 27/50\n",
      "819/819 [==============================] - 55s 67ms/step - loss: 8.3112 - mae: 2.2294 - val_loss: 11.4323 - val_mae: 2.6478\n",
      "Epoch 28/50\n",
      "819/819 [==============================] - 51s 62ms/step - loss: 8.2240 - mae: 2.2198 - val_loss: 11.3991 - val_mae: 2.6391\n",
      "Epoch 29/50\n",
      "819/819 [==============================] - 51s 62ms/step - loss: 8.1818 - mae: 2.2129 - val_loss: 11.5888 - val_mae: 2.6684\n",
      "Epoch 30/50\n",
      "819/819 [==============================] - 52s 64ms/step - loss: 8.1281 - mae: 2.2024 - val_loss: 11.3221 - val_mae: 2.6394\n",
      "Epoch 31/50\n",
      "819/819 [==============================] - 52s 63ms/step - loss: 8.0809 - mae: 2.1969 - val_loss: 12.2666 - val_mae: 2.7369\n",
      "Epoch 32/50\n",
      "819/819 [==============================] - 51s 63ms/step - loss: 7.9470 - mae: 2.1771 - val_loss: 11.8669 - val_mae: 2.6882\n",
      "Epoch 33/50\n",
      "819/819 [==============================] - 51s 63ms/step - loss: 7.9254 - mae: 2.1740 - val_loss: 11.6410 - val_mae: 2.6740\n",
      "Epoch 34/50\n",
      "819/819 [==============================] - 51s 63ms/step - loss: 7.8597 - mae: 2.1637 - val_loss: 11.6164 - val_mae: 2.6601\n",
      "Epoch 35/50\n",
      "819/819 [==============================] - 52s 63ms/step - loss: 7.7064 - mae: 2.1463 - val_loss: 11.8894 - val_mae: 2.6916\n",
      "Epoch 36/50\n",
      "819/819 [==============================] - 50s 62ms/step - loss: 7.7460 - mae: 2.1487 - val_loss: 11.6658 - val_mae: 2.6715\n",
      "Epoch 37/50\n",
      "819/819 [==============================] - 51s 62ms/step - loss: 7.6226 - mae: 2.1347 - val_loss: 12.1892 - val_mae: 2.7234\n",
      "Epoch 38/50\n",
      "819/819 [==============================] - 51s 63ms/step - loss: 7.5941 - mae: 2.1265 - val_loss: 12.6341 - val_mae: 2.7760\n",
      "Epoch 39/50\n",
      "819/819 [==============================] - 52s 63ms/step - loss: 7.5955 - mae: 2.1272 - val_loss: 12.2935 - val_mae: 2.7337\n",
      "Epoch 40/50\n",
      "819/819 [==============================] - 52s 64ms/step - loss: 7.5144 - mae: 2.1141 - val_loss: 11.9545 - val_mae: 2.6938\n",
      "Epoch 41/50\n",
      "819/819 [==============================] - 52s 64ms/step - loss: 7.4530 - mae: 2.1076 - val_loss: 12.0211 - val_mae: 2.7055\n",
      "Epoch 42/50\n",
      "819/819 [==============================] - 52s 64ms/step - loss: 7.4137 - mae: 2.1015 - val_loss: 11.6052 - val_mae: 2.6562\n",
      "Epoch 43/50\n",
      "819/819 [==============================] - 53s 64ms/step - loss: 7.4527 - mae: 2.1050 - val_loss: 12.5580 - val_mae: 2.7589\n",
      "Epoch 44/50\n",
      "819/819 [==============================] - 52s 63ms/step - loss: 7.3839 - mae: 2.0950 - val_loss: 11.7320 - val_mae: 2.6601\n",
      "Epoch 45/50\n",
      "819/819 [==============================] - 51s 62ms/step - loss: 7.3492 - mae: 2.0887 - val_loss: 11.8520 - val_mae: 2.6759\n",
      "Epoch 46/50\n",
      "819/819 [==============================] - 52s 63ms/step - loss: 7.2822 - mae: 2.0821 - val_loss: 11.6364 - val_mae: 2.6690\n",
      "Epoch 47/50\n",
      "819/819 [==============================] - 54s 66ms/step - loss: 7.2423 - mae: 2.0720 - val_loss: 12.6091 - val_mae: 2.7651\n",
      "Epoch 48/50\n",
      "819/819 [==============================] - 52s 63ms/step - loss: 7.2430 - mae: 2.0723 - val_loss: 12.7208 - val_mae: 2.7712\n",
      "Epoch 49/50\n",
      "819/819 [==============================] - 51s 62ms/step - loss: 7.1446 - mae: 2.0603 - val_loss: 12.3321 - val_mae: 2.7253\n",
      "Epoch 50/50\n",
      "819/819 [==============================] - 51s 63ms/step - loss: 7.1622 - mae: 2.0614 - val_loss: 11.9020 - val_mae: 2.6871\n"
     ]
    }
   ],
   "source": [
    "inputs = keras.Input(shape=(sequence_length, raw_data.shape[-1]))\n",
    "#x = layers.LSTM(32, recurrent_dropout=0.25)(inputs)\n",
    "x = layers.LSTM(32)(inputs)\n",
    "x = layers.Dropout(0.5)(x)\n",
    "outputs = layers.Dense(1)(x)\n",
    "model = keras.Model(inputs, outputs)\n",
    "\n",
    "callbacks = [\n",
    "    keras.callbacks.ModelCheckpoint(\"jena_lstm_dropout.keras\",\n",
    "                                    save_best_only=True)\n",
    "]\n",
    "model.compile(optimizer=\"rmsprop\", loss=\"mse\", metrics=[\"mae\"])\n",
    "history = model.fit(train_dataset,\n",
    "                    epochs=50,\n",
    "                    validation_data=val_dataset,\n",
    "                    callbacks=callbacks)"
   ]
  },
  {
   "cell_type": "code",
   "execution_count": 12,
   "metadata": {},
   "outputs": [
    {
     "data": {
      "image/png": "[encoded data removed]",
      "text/plain": [
       "<Figure size 432x288 with 1 Axes>"
      ]
     },
     "metadata": {
      "needs_background": "light"
     },
     "output_type": "display_data"
    }
   ],
   "source": [
    "loss = history.history[\"mae\"]\n",
    "val_loss = history.history[\"val_mae\"]\n",
    "epochs = range(1, len(loss) + 1)\n",
    "plt.figure()\n",
    "plt.plot(epochs, loss, \"bo\", label=\"Training MAE\")\n",
    "plt.plot(epochs, val_loss, \"b\", label=\"Validation MAE\")\n",
    "plt.title(\"Training and validation MAE\")\n",
    "plt.legend()\n",
    "plt.show()"
   ]
  }
 ],
 "metadata": {
  "kernelspec": {
   "display_name": "Python 3.9.7 ('tf26')",
   "language": "python",
   "name": "python3"
  },
  "language_info": {
   "codemirror_mode": {
    "name": "ipython",
    "version": 3
   },
   "file_extension": ".py",
   "mimetype": "text/x-python",
   "name": "python",
   "nbconvert_exporter": "python",
   "pygments_lexer": "ipython3",
   "version": "3.9.7"
  },
  "orig_nbformat": 4,
  "vscode": {
   "interpreter": {
    "hash": "ad58c928f09b19558d9145941e1fbb8f707bd1f52c565dc55011bfbe7360f20d"
   }
  }
 },
 "nbformat": 4,
 "nbformat_minor": 2
}
