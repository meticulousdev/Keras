{
 "cells": [
  {
   "cell_type": "code",
   "execution_count": 1,
   "metadata": {},
   "outputs": [],
   "source": [
    "import os\n",
    "data_dir = './datasets/jena_climate/'\n",
    "fname = os.path.join(data_dir, 'jena_climate_2009_2016.csv')"
   ]
  },
  {
   "cell_type": "code",
   "execution_count": 2,
   "metadata": {},
   "outputs": [
    {
     "name": "stdout",
     "output_type": "stream",
     "text": [
      "header: \n",
      "['\"Date Time\"', '\"p (mbar)\"', '\"T (degC)\"', '\"Tpot (K)\"', '\"Tdew (degC)\"', '\"rh (%)\"', '\"VPmax (mbar)\"', '\"VPact (mbar)\"', '\"VPdef (mbar)\"', '\"sh (g/kg)\"', '\"H2OC (mmol/mol)\"', '\"rho (g/m**3)\"', '\"wv (m/s)\"', '\"max. wv (m/s)\"', '\"wd (deg)\"']\n",
      "\n",
      "line length: 420451\n"
     ]
    }
   ],
   "source": [
    "f = open(fname)\n",
    "data = f.read()\n",
    "f.close()\n",
    "\n",
    "lines = data.split('\\n')\n",
    "header = lines[0].split(',')\n",
    "lines = lines[1:]\n",
    "\n",
    "print(f\"header: \\n{header}\\n\")\n",
    "print(f\"line length: {len(lines)}\")"
   ]
  },
  {
   "cell_type": "code",
   "execution_count": 3,
   "metadata": {},
   "outputs": [],
   "source": [
    "import numpy as np\n",
    "temperature = np.zeros((len(lines),))\n",
    "raw_data = np.zeros((len(lines), len(header) - 1))\n",
    "for i, line in enumerate(lines):\n",
    "    values = [float(x) for x in line.split(\",\")[1:]]\n",
    "    temperature[i] = values[1]\n",
    "    raw_data[i, :] = values[:]"
   ]
  },
  {
   "cell_type": "code",
   "execution_count": 4,
   "metadata": {},
   "outputs": [
    {
     "name": "stdout",
     "output_type": "stream",
     "text": [
      "num_train_samples: 210225\n",
      "num_val_samples: 105112\n",
      "num_test_samples: 105114\n"
     ]
    }
   ],
   "source": [
    "num_train_samples = int(0.5 * len(raw_data))\n",
    "num_val_samples = int(0.25 * len(raw_data))\n",
    "num_test_samples = len(raw_data) - num_train_samples - num_val_samples\n",
    "\n",
    "print(\"num_train_samples:\", num_train_samples)\n",
    "print(\"num_val_samples:\", num_val_samples)\n",
    "print(\"num_test_samples:\", num_test_samples)"
   ]
  },
  {
   "cell_type": "code",
   "execution_count": 5,
   "metadata": {},
   "outputs": [],
   "source": [
    "mean = raw_data[:num_train_samples].mean(axis=0)\n",
    "raw_data -= mean\n",
    "std = raw_data[:num_train_samples].std(axis=0)\n",
    "raw_data /= std"
   ]
  },
  {
   "cell_type": "code",
   "execution_count": 6,
   "metadata": {},
   "outputs": [],
   "source": [
    "import numpy as np\n",
    "from tensorflow import keras"
   ]
  },
  {
   "cell_type": "code",
   "execution_count": 7,
   "metadata": {},
   "outputs": [],
   "source": [
    "sampling_rate = 6\n",
    "sequence_length = 120\n",
    "delay = sampling_rate * (sequence_length + 24 - 1)\n",
    "batch_size = 256\n",
    "\n",
    "train_dataset = keras.utils.timeseries_dataset_from_array(\n",
    "    raw_data[:-delay],\n",
    "    targets=temperature[delay:],\n",
    "    sampling_rate=sampling_rate,\n",
    "    sequence_length=sequence_length,\n",
    "    shuffle=True,\n",
    "    batch_size=batch_size,\n",
    "    start_index=0,\n",
    "    end_index=num_train_samples)\n",
    "\n",
    "val_dataset = keras.utils.timeseries_dataset_from_array(\n",
    "    raw_data[:-delay],\n",
    "    targets=temperature[delay:],\n",
    "    sampling_rate=sampling_rate,\n",
    "    sequence_length=sequence_length,\n",
    "    shuffle=True,\n",
    "    batch_size=batch_size,\n",
    "    start_index=num_train_samples,\n",
    "    end_index=num_train_samples + num_val_samples)\n",
    "\n",
    "test_dataset = keras.utils.timeseries_dataset_from_array(\n",
    "    raw_data[:-delay],\n",
    "    targets=temperature[delay:],\n",
    "    sampling_rate=sampling_rate,\n",
    "    sequence_length=sequence_length,\n",
    "    shuffle=True,\n",
    "    batch_size=batch_size,\n",
    "    start_index=num_train_samples + num_val_samples)"
   ]
  },
  {
   "cell_type": "code",
   "execution_count": 8,
   "metadata": {},
   "outputs": [
    {
     "name": "stdout",
     "output_type": "stream",
     "text": [
      "sample shape: (256, 120, 14)\n",
      "target shape: (256,)\n"
     ]
    }
   ],
   "source": [
    "for samples, targets in train_dataset:\n",
    "    print(\"sample shape:\", samples.shape)\n",
    "    print(\"target shape:\", targets.shape)\n",
    "    break"
   ]
  },
  {
   "cell_type": "code",
   "execution_count": 9,
   "metadata": {},
   "outputs": [],
   "source": [
    "from tensorflow import keras\n",
    "from tensorflow.keras import layers\n",
    "\n",
    "import matplotlib.pyplot as plt"
   ]
  },
  {
   "cell_type": "markdown",
   "metadata": {},
   "source": [
    "- 순환 드롭아웃(recurrent dropout)"
   ]
  },
  {
   "cell_type": "code",
   "execution_count": 10,
   "metadata": {},
   "outputs": [
    {
     "name": "stdout",
     "output_type": "stream",
     "text": [
      "Epoch 1/50\n",
      "819/819 [==============================] - 76s 91ms/step - loss: 28.1126 - mae: 3.9074 - val_loss: 9.6701 - val_mae: 2.4102\n",
      "Epoch 2/50\n",
      "819/819 [==============================] - 73s 89ms/step - loss: 14.7568 - mae: 2.9830 - val_loss: 9.3602 - val_mae: 2.3835\n",
      "Epoch 3/50\n",
      "819/819 [==============================] - 74s 90ms/step - loss: 13.8032 - mae: 2.8859 - val_loss: 9.2756 - val_mae: 2.3678\n",
      "Epoch 4/50\n",
      "819/819 [==============================] - 73s 89ms/step - loss: 13.1766 - mae: 2.8206 - val_loss: 9.2547 - val_mae: 2.3676\n",
      "Epoch 5/50\n",
      "819/819 [==============================] - 73s 89ms/step - loss: 12.7913 - mae: 2.7736 - val_loss: 9.1879 - val_mae: 2.3471\n",
      "Epoch 6/50\n",
      "819/819 [==============================] - 75s 92ms/step - loss: 12.4610 - mae: 2.7381 - val_loss: 9.6561 - val_mae: 2.4145\n",
      "Epoch 7/50\n",
      "819/819 [==============================] - 76s 93ms/step - loss: 12.0696 - mae: 2.6932 - val_loss: 9.6729 - val_mae: 2.4144\n",
      "Epoch 8/50\n",
      "819/819 [==============================] - 76s 93ms/step - loss: 11.9145 - mae: 2.6760 - val_loss: 9.8573 - val_mae: 2.4413\n",
      "Epoch 9/50\n",
      "819/819 [==============================] - 76s 93ms/step - loss: 11.6806 - mae: 2.6516 - val_loss: 10.1357 - val_mae: 2.4670\n",
      "Epoch 10/50\n",
      "819/819 [==============================] - 76s 93ms/step - loss: 11.4856 - mae: 2.6271 - val_loss: 9.9041 - val_mae: 2.4432\n",
      "Epoch 11/50\n",
      "819/819 [==============================] - 74s 90ms/step - loss: 11.2420 - mae: 2.6029 - val_loss: 9.8116 - val_mae: 2.4272\n",
      "Epoch 12/50\n",
      "819/819 [==============================] - 73s 89ms/step - loss: 11.0506 - mae: 2.5780 - val_loss: 10.0766 - val_mae: 2.4644\n",
      "Epoch 13/50\n",
      "819/819 [==============================] - 73s 89ms/step - loss: 10.9379 - mae: 2.5659 - val_loss: 9.9100 - val_mae: 2.4434\n",
      "Epoch 14/50\n",
      "819/819 [==============================] - 73s 89ms/step - loss: 10.7743 - mae: 2.5500 - val_loss: 9.9285 - val_mae: 2.4521\n",
      "Epoch 15/50\n",
      "819/819 [==============================] - 73s 88ms/step - loss: 10.7075 - mae: 2.5423 - val_loss: 10.1123 - val_mae: 2.4553\n",
      "Epoch 16/50\n",
      "819/819 [==============================] - 75s 91ms/step - loss: 10.6317 - mae: 2.5330 - val_loss: 10.2397 - val_mae: 2.4851\n",
      "Epoch 17/50\n",
      "819/819 [==============================] - 74s 90ms/step - loss: 10.4205 - mae: 2.5059 - val_loss: 10.1538 - val_mae: 2.4876\n",
      "Epoch 18/50\n",
      "819/819 [==============================] - 74s 90ms/step - loss: 10.4247 - mae: 2.5055 - val_loss: 10.6863 - val_mae: 2.5304\n",
      "Epoch 19/50\n",
      "819/819 [==============================] - 74s 91ms/step - loss: 10.2887 - mae: 2.4866 - val_loss: 10.7399 - val_mae: 2.5279\n",
      "Epoch 20/50\n",
      "819/819 [==============================] - 73s 89ms/step - loss: 10.2150 - mae: 2.4804 - val_loss: 10.5101 - val_mae: 2.5222\n",
      "Epoch 21/50\n",
      "819/819 [==============================] - 74s 90ms/step - loss: 10.0973 - mae: 2.4676 - val_loss: 10.5071 - val_mae: 2.5136\n",
      "Epoch 22/50\n",
      "819/819 [==============================] - 75s 91ms/step - loss: 10.0550 - mae: 2.4595 - val_loss: 10.1984 - val_mae: 2.4721\n",
      "Epoch 23/50\n",
      "819/819 [==============================] - 74s 91ms/step - loss: 9.9527 - mae: 2.4489 - val_loss: 10.3959 - val_mae: 2.5008\n",
      "Epoch 24/50\n",
      "819/819 [==============================] - 73s 89ms/step - loss: 9.9384 - mae: 2.4469 - val_loss: 10.4715 - val_mae: 2.5049\n",
      "Epoch 25/50\n",
      "819/819 [==============================] - 73s 89ms/step - loss: 9.8405 - mae: 2.4357 - val_loss: 10.7385 - val_mae: 2.5390\n",
      "Epoch 26/50\n",
      "819/819 [==============================] - 73s 89ms/step - loss: 9.7562 - mae: 2.4244 - val_loss: 10.7583 - val_mae: 2.5250\n",
      "Epoch 27/50\n",
      "819/819 [==============================] - 73s 89ms/step - loss: 9.7157 - mae: 2.4178 - val_loss: 11.9476 - val_mae: 2.6596\n",
      "Epoch 28/50\n",
      "819/819 [==============================] - 73s 89ms/step - loss: 9.6877 - mae: 2.4187 - val_loss: 10.7498 - val_mae: 2.5383\n",
      "Epoch 29/50\n",
      "819/819 [==============================] - 72s 88ms/step - loss: 9.5878 - mae: 2.4008 - val_loss: 10.9466 - val_mae: 2.5593\n",
      "Epoch 30/50\n",
      "819/819 [==============================] - 74s 90ms/step - loss: 9.5488 - mae: 2.3972 - val_loss: 11.0146 - val_mae: 2.5794\n",
      "Epoch 31/50\n",
      "819/819 [==============================] - 74s 90ms/step - loss: 9.5108 - mae: 2.3954 - val_loss: 10.4890 - val_mae: 2.5038\n",
      "Epoch 32/50\n",
      "819/819 [==============================] - 73s 89ms/step - loss: 9.4856 - mae: 2.3909 - val_loss: 10.8199 - val_mae: 2.5393\n",
      "Epoch 33/50\n",
      "819/819 [==============================] - 72s 88ms/step - loss: 9.4342 - mae: 2.3857 - val_loss: 10.8717 - val_mae: 2.5332\n",
      "Epoch 34/50\n",
      "819/819 [==============================] - 72s 88ms/step - loss: 9.4425 - mae: 2.3864 - val_loss: 10.5539 - val_mae: 2.5110\n",
      "Epoch 35/50\n",
      "819/819 [==============================] - 72s 88ms/step - loss: 9.3289 - mae: 2.3665 - val_loss: 11.0384 - val_mae: 2.5703\n",
      "Epoch 36/50\n",
      "819/819 [==============================] - 73s 89ms/step - loss: 9.3219 - mae: 2.3696 - val_loss: 11.1352 - val_mae: 2.5726\n",
      "Epoch 37/50\n",
      "819/819 [==============================] - 74s 90ms/step - loss: 9.2462 - mae: 2.3597 - val_loss: 10.8795 - val_mae: 2.5479\n",
      "Epoch 38/50\n",
      "819/819 [==============================] - 72s 88ms/step - loss: 9.3034 - mae: 2.3632 - val_loss: 10.6707 - val_mae: 2.5282\n",
      "Epoch 39/50\n",
      "819/819 [==============================] - 71s 87ms/step - loss: 9.1892 - mae: 2.3507 - val_loss: 10.9870 - val_mae: 2.5637\n",
      "Epoch 40/50\n",
      "819/819 [==============================] - 73s 89ms/step - loss: 9.1770 - mae: 2.3496 - val_loss: 10.9431 - val_mae: 2.5565\n",
      "Epoch 41/50\n",
      "819/819 [==============================] - 73s 89ms/step - loss: 9.1165 - mae: 2.3395 - val_loss: 11.0301 - val_mae: 2.5650\n",
      "Epoch 42/50\n",
      "819/819 [==============================] - 72s 88ms/step - loss: 9.0923 - mae: 2.3406 - val_loss: 11.3763 - val_mae: 2.5921\n",
      "Epoch 43/50\n",
      "819/819 [==============================] - 73s 89ms/step - loss: 9.1029 - mae: 2.3380 - val_loss: 11.0983 - val_mae: 2.5620\n",
      "Epoch 44/50\n",
      "819/819 [==============================] - 72s 87ms/step - loss: 8.9808 - mae: 2.3234 - val_loss: 10.7803 - val_mae: 2.5257\n",
      "Epoch 45/50\n",
      "819/819 [==============================] - 72s 88ms/step - loss: 9.0007 - mae: 2.3261 - val_loss: 11.1545 - val_mae: 2.5868\n",
      "Epoch 46/50\n",
      "819/819 [==============================] - 74s 90ms/step - loss: 9.0421 - mae: 2.3298 - val_loss: 11.1371 - val_mae: 2.5717\n",
      "Epoch 47/50\n",
      "819/819 [==============================] - 72s 88ms/step - loss: 8.9737 - mae: 2.3235 - val_loss: 10.9961 - val_mae: 2.5674\n",
      "Epoch 48/50\n",
      "819/819 [==============================] - 72s 88ms/step - loss: 8.9215 - mae: 2.3159 - val_loss: 11.1567 - val_mae: 2.5794\n",
      "Epoch 49/50\n",
      "819/819 [==============================] - 71s 87ms/step - loss: 8.8819 - mae: 2.3109 - val_loss: 11.0833 - val_mae: 2.5779\n",
      "Epoch 50/50\n",
      "819/819 [==============================] - 72s 88ms/step - loss: 8.8824 - mae: 2.3106 - val_loss: 11.5997 - val_mae: 2.6296\n"
     ]
    }
   ],
   "source": [
    "inputs = keras.Input(shape=(sequence_length, raw_data.shape[-1]))\n",
    "x = layers.LSTM(32, recurrent_dropout=0.25)(inputs)\n",
    "x = layers.Dropout(0.5)(x)\n",
    "outputs = layers.Dense(1)(x)\n",
    "model = keras.Model(inputs, outputs)\n",
    "\n",
    "callbacks = [\n",
    "    keras.callbacks.ModelCheckpoint(\"jena_lstm_dropout.keras\",\n",
    "                                    save_best_only=True)\n",
    "]\n",
    "model.compile(optimizer=\"rmsprop\", loss=\"mse\", metrics=[\"mae\"])\n",
    "history = model.fit(train_dataset,\n",
    "                    epochs=50,\n",
    "                    validation_data=val_dataset,\n",
    "                    callbacks=callbacks)"
   ]
  },
  {
   "cell_type": "code",
   "execution_count": 11,
   "metadata": {},
   "outputs": [
    {
     "data": {
      "image/png": "[encoded data removed]",
      "text/plain": [
       "<Figure size 432x288 with 1 Axes>"
      ]
     },
     "metadata": {
      "needs_background": "light"
     },
     "output_type": "display_data"
    }
   ],
   "source": [
    "loss = history.history[\"mae\"]\n",
    "val_loss = history.history[\"val_mae\"]\n",
    "epochs = range(1, len(loss) + 1)\n",
    "plt.figure()\n",
    "plt.plot(epochs, loss, \"bo\", label=\"Training MAE\")\n",
    "plt.plot(epochs, val_loss, \"b\", label=\"Validation MAE\")\n",
    "plt.title(\"Training and validation MAE\")\n",
    "plt.legend()\n",
    "plt.show()"
   ]
  }
 ],
 "metadata": {
  "kernelspec": {
   "display_name": "Python 3.9.7 ('tf26')",
   "language": "python",
   "name": "python3"
  },
  "language_info": {
   "codemirror_mode": {
    "name": "ipython",
    "version": 3
   },
   "file_extension": ".py",
   "mimetype": "text/x-python",
   "name": "python",
   "nbconvert_exporter": "python",
   "pygments_lexer": "ipython3",
   "version": "3.9.7"
  },
  "orig_nbformat": 4,
  "vscode": {
   "interpreter": {
    "hash": "ad58c928f09b19558d9145941e1fbb8f707bd1f52c565dc55011bfbe7360f20d"
   }
  }
 },
 "nbformat": 4,
 "nbformat_minor": 2
}
