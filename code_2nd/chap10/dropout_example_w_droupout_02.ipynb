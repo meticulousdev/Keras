{
 "cells": [
  {
   "cell_type": "code",
   "execution_count": 1,
   "metadata": {},
   "outputs": [],
   "source": [
    "import os\n",
    "data_dir = './datasets/jena_climate/'\n",
    "fname = os.path.join(data_dir, 'jena_climate_2009_2016.csv')"
   ]
  },
  {
   "cell_type": "code",
   "execution_count": 2,
   "metadata": {},
   "outputs": [
    {
     "name": "stdout",
     "output_type": "stream",
     "text": [
      "header: \n",
      "['\"Date Time\"', '\"p (mbar)\"', '\"T (degC)\"', '\"Tpot (K)\"', '\"Tdew (degC)\"', '\"rh (%)\"', '\"VPmax (mbar)\"', '\"VPact (mbar)\"', '\"VPdef (mbar)\"', '\"sh (g/kg)\"', '\"H2OC (mmol/mol)\"', '\"rho (g/m**3)\"', '\"wv (m/s)\"', '\"max. wv (m/s)\"', '\"wd (deg)\"']\n",
      "\n",
      "line length: 420451\n"
     ]
    }
   ],
   "source": [
    "f = open(fname)\n",
    "data = f.read()\n",
    "f.close()\n",
    "\n",
    "lines = data.split('\\n')\n",
    "header = lines[0].split(',')\n",
    "lines = lines[1:]\n",
    "\n",
    "print(f\"header: \\n{header}\\n\")\n",
    "print(f\"line length: {len(lines)}\")"
   ]
  },
  {
   "cell_type": "code",
   "execution_count": 3,
   "metadata": {},
   "outputs": [],
   "source": [
    "import numpy as np\n",
    "temperature = np.zeros((len(lines),))\n",
    "raw_data = np.zeros((len(lines), len(header) - 1))\n",
    "for i, line in enumerate(lines):\n",
    "    values = [float(x) for x in line.split(\",\")[1:]]\n",
    "    temperature[i] = values[1]\n",
    "    raw_data[i, :] = values[:]"
   ]
  },
  {
   "cell_type": "code",
   "execution_count": 4,
   "metadata": {},
   "outputs": [
    {
     "name": "stdout",
     "output_type": "stream",
     "text": [
      "num_train_samples: 210225\n",
      "num_val_samples: 105112\n",
      "num_test_samples: 105114\n"
     ]
    }
   ],
   "source": [
    "num_train_samples = int(0.5 * len(raw_data))\n",
    "num_val_samples = int(0.25 * len(raw_data))\n",
    "num_test_samples = len(raw_data) - num_train_samples - num_val_samples\n",
    "\n",
    "print(\"num_train_samples:\", num_train_samples)\n",
    "print(\"num_val_samples:\", num_val_samples)\n",
    "print(\"num_test_samples:\", num_test_samples)"
   ]
  },
  {
   "cell_type": "code",
   "execution_count": 5,
   "metadata": {},
   "outputs": [],
   "source": [
    "mean = raw_data[:num_train_samples].mean(axis=0)\n",
    "raw_data -= mean\n",
    "std = raw_data[:num_train_samples].std(axis=0)\n",
    "raw_data /= std"
   ]
  },
  {
   "cell_type": "code",
   "execution_count": 6,
   "metadata": {},
   "outputs": [],
   "source": [
    "import numpy as np\n",
    "from tensorflow import keras"
   ]
  },
  {
   "cell_type": "code",
   "execution_count": 7,
   "metadata": {},
   "outputs": [],
   "source": [
    "sampling_rate = 6\n",
    "sequence_length = 120\n",
    "delay = sampling_rate * (sequence_length + 24 - 1)\n",
    "batch_size = 256\n",
    "\n",
    "train_dataset = keras.utils.timeseries_dataset_from_array(\n",
    "    raw_data[:-delay],\n",
    "    targets=temperature[delay:],\n",
    "    sampling_rate=sampling_rate,\n",
    "    sequence_length=sequence_length,\n",
    "    shuffle=True,\n",
    "    batch_size=batch_size,\n",
    "    start_index=0,\n",
    "    end_index=num_train_samples)\n",
    "\n",
    "val_dataset = keras.utils.timeseries_dataset_from_array(\n",
    "    raw_data[:-delay],\n",
    "    targets=temperature[delay:],\n",
    "    sampling_rate=sampling_rate,\n",
    "    sequence_length=sequence_length,\n",
    "    shuffle=True,\n",
    "    batch_size=batch_size,\n",
    "    start_index=num_train_samples,\n",
    "    end_index=num_train_samples + num_val_samples)\n",
    "\n",
    "test_dataset = keras.utils.timeseries_dataset_from_array(\n",
    "    raw_data[:-delay],\n",
    "    targets=temperature[delay:],\n",
    "    sampling_rate=sampling_rate,\n",
    "    sequence_length=sequence_length,\n",
    "    shuffle=True,\n",
    "    batch_size=batch_size,\n",
    "    start_index=num_train_samples + num_val_samples)"
   ]
  },
  {
   "cell_type": "code",
   "execution_count": 8,
   "metadata": {},
   "outputs": [
    {
     "name": "stdout",
     "output_type": "stream",
     "text": [
      "sample shape: (256, 120, 14)\n",
      "target shape: (256,)\n"
     ]
    }
   ],
   "source": [
    "for samples, targets in train_dataset:\n",
    "    print(\"sample shape:\", samples.shape)\n",
    "    print(\"target shape:\", targets.shape)\n",
    "    break"
   ]
  },
  {
   "cell_type": "code",
   "execution_count": 9,
   "metadata": {},
   "outputs": [],
   "source": [
    "from tensorflow import keras\n",
    "from tensorflow.keras import layers\n",
    "\n",
    "import matplotlib.pyplot as plt"
   ]
  },
  {
   "cell_type": "markdown",
   "metadata": {},
   "source": [
    "- 순환 드롭아웃(recurrent dropout)"
   ]
  },
  {
   "cell_type": "code",
   "execution_count": 10,
   "metadata": {},
   "outputs": [
    {
     "name": "stdout",
     "output_type": "stream",
     "text": [
      "Epoch 1/20\n",
      "819/819 [==============================] - 72s 87ms/step - loss: 27.6632 - mae: 3.8793 - val_loss: 9.7002 - val_mae: 2.4353\n",
      "Epoch 2/20\n",
      "819/819 [==============================] - 72s 88ms/step - loss: 14.6271 - mae: 2.9690 - val_loss: 9.8447 - val_mae: 2.4404\n",
      "Epoch 3/20\n",
      "819/819 [==============================] - 70s 86ms/step - loss: 13.6661 - mae: 2.8691 - val_loss: 9.4917 - val_mae: 2.3998\n",
      "Epoch 4/20\n",
      "819/819 [==============================] - 74s 90ms/step - loss: 13.1443 - mae: 2.8133 - val_loss: 9.2893 - val_mae: 2.3596\n",
      "Epoch 5/20\n",
      "819/819 [==============================] - 75s 91ms/step - loss: 12.6483 - mae: 2.7593 - val_loss: 9.2839 - val_mae: 2.3657\n",
      "Epoch 6/20\n",
      "819/819 [==============================] - 75s 92ms/step - loss: 12.3262 - mae: 2.7209 - val_loss: 9.7771 - val_mae: 2.4354\n",
      "Epoch 7/20\n",
      "819/819 [==============================] - 74s 91ms/step - loss: 11.9725 - mae: 2.6834 - val_loss: 9.3539 - val_mae: 2.3907\n",
      "Epoch 8/20\n",
      "819/819 [==============================] - 75s 91ms/step - loss: 11.7444 - mae: 2.6553 - val_loss: 9.5539 - val_mae: 2.4010\n",
      "Epoch 9/20\n",
      "819/819 [==============================] - 75s 92ms/step - loss: 11.5202 - mae: 2.6299 - val_loss: 9.5077 - val_mae: 2.3951\n",
      "Epoch 10/20\n",
      "819/819 [==============================] - 75s 92ms/step - loss: 11.3518 - mae: 2.6135 - val_loss: 9.5040 - val_mae: 2.3933\n",
      "Epoch 11/20\n",
      "819/819 [==============================] - 74s 91ms/step - loss: 11.1599 - mae: 2.5888 - val_loss: 9.6646 - val_mae: 2.4116\n",
      "Epoch 12/20\n",
      "819/819 [==============================] - 76s 92ms/step - loss: 11.0352 - mae: 2.5705 - val_loss: 9.7699 - val_mae: 2.4139\n",
      "Epoch 13/20\n",
      "819/819 [==============================] - 76s 92ms/step - loss: 10.8001 - mae: 2.5471 - val_loss: 9.7901 - val_mae: 2.4309\n",
      "Epoch 14/20\n",
      "819/819 [==============================] - 76s 93ms/step - loss: 10.7231 - mae: 2.5362 - val_loss: 9.7801 - val_mae: 2.4251\n",
      "Epoch 15/20\n",
      "819/819 [==============================] - 76s 93ms/step - loss: 10.5478 - mae: 2.5177 - val_loss: 9.8329 - val_mae: 2.4325\n",
      "Epoch 16/20\n",
      "819/819 [==============================] - 78s 95ms/step - loss: 10.4127 - mae: 2.5027 - val_loss: 10.0938 - val_mae: 2.4705\n",
      "Epoch 17/20\n",
      "819/819 [==============================] - 76s 93ms/step - loss: 10.3634 - mae: 2.4960 - val_loss: 9.9833 - val_mae: 2.4510\n",
      "Epoch 18/20\n",
      "819/819 [==============================] - 77s 94ms/step - loss: 10.2654 - mae: 2.4796 - val_loss: 9.9959 - val_mae: 2.4484\n",
      "Epoch 19/20\n",
      "819/819 [==============================] - 76s 93ms/step - loss: 10.1899 - mae: 2.4734 - val_loss: 9.9694 - val_mae: 2.4453\n",
      "Epoch 20/20\n",
      "819/819 [==============================] - 78s 96ms/step - loss: 10.0548 - mae: 2.4568 - val_loss: 10.4687 - val_mae: 2.5059\n"
     ]
    }
   ],
   "source": [
    "inputs = keras.Input(shape=(sequence_length, raw_data.shape[-1]))\n",
    "x = layers.LSTM(32, recurrent_dropout=0.25)(inputs)\n",
    "x = layers.Dropout(0.5)(x)\n",
    "outputs = layers.Dense(1)(x)\n",
    "model = keras.Model(inputs, outputs)\n",
    "\n",
    "callbacks = [\n",
    "    keras.callbacks.ModelCheckpoint(\"jena_lstm_dropout.keras\",\n",
    "                                    save_best_only=True)\n",
    "]\n",
    "model.compile(optimizer=\"rmsprop\", loss=\"mse\", metrics=[\"mae\"])\n",
    "history = model.fit(train_dataset,\n",
    "                    epochs=20,\n",
    "                    validation_data=val_dataset,\n",
    "                    callbacks=callbacks)"
   ]
  },
  {
   "cell_type": "code",
   "execution_count": 11,
   "metadata": {},
   "outputs": [
    {
     "data": {
      "image/png": "[encoded data removed]",
      "text/plain": [
       "<Figure size 432x288 with 1 Axes>"
      ]
     },
     "metadata": {
      "needs_background": "light"
     },
     "output_type": "display_data"
    }
   ],
   "source": [
    "loss = history.history[\"mae\"]\n",
    "val_loss = history.history[\"val_mae\"]\n",
    "epochs = range(1, len(loss) + 1)\n",
    "plt.figure()\n",
    "plt.plot(epochs, loss, \"bo\", label=\"Training MAE\")\n",
    "plt.plot(epochs, val_loss, \"b\", label=\"Validation MAE\")\n",
    "plt.title(\"Training and validation MAE\")\n",
    "plt.legend()\n",
    "plt.show()"
   ]
  },
  {
   "cell_type": "code",
   "execution_count": 10,
   "metadata": {},
   "outputs": [
    {
     "name": "stdout",
     "output_type": "stream",
     "text": [
      "405/405 [==============================] - 6s 15ms/step - loss: 10.5457 - mae: 2.5681\n",
      "테스트 MAE: 2.57\n"
     ]
    }
   ],
   "source": [
    "model = keras.models.load_model(\"jena_lstm_dropout_02.keras\")\n",
    "print(f\"테스트 MAE: {model.evaluate(test_dataset)[1]:.2f}\")"
   ]
  },
  {
   "attachments": {},
   "cell_type": "markdown",
   "metadata": {},
   "source": [
    "- Prediction"
   ]
  },
  {
   "cell_type": "code",
   "execution_count": 11,
   "metadata": {},
   "outputs": [],
   "source": [
    "sampling_rate = 6\n",
    "sequence_length = 120\n",
    "delay = sampling_rate * (sequence_length + 24 - 1)\n",
    "batch_size = 256\n",
    "\n",
    "# shuffle=False (default)\n",
    "\n",
    "train_dataset = keras.utils.timeseries_dataset_from_array(\n",
    "    raw_data[:-delay],\n",
    "    targets=temperature[delay:],\n",
    "    sampling_rate=sampling_rate,\n",
    "    sequence_length=sequence_length,\n",
    "    batch_size=batch_size,\n",
    "    start_index=0,\n",
    "    end_index=num_train_samples)\n",
    "\n",
    "val_dataset = keras.utils.timeseries_dataset_from_array(\n",
    "    raw_data[:-delay],\n",
    "    targets=temperature[delay:],\n",
    "    sampling_rate=sampling_rate,\n",
    "    sequence_length=sequence_length,\n",
    "    batch_size=batch_size,\n",
    "    start_index=num_train_samples,\n",
    "    end_index=num_train_samples + num_val_samples)\n",
    "\n",
    "test_dataset = keras.utils.timeseries_dataset_from_array(\n",
    "    raw_data[:-delay],\n",
    "    targets=temperature[delay:],\n",
    "    sampling_rate=sampling_rate,\n",
    "    sequence_length=sequence_length,\n",
    "    batch_size=batch_size,\n",
    "    start_index=num_train_samples + num_val_samples)"
   ]
  },
  {
   "cell_type": "code",
   "execution_count": 12,
   "metadata": {},
   "outputs": [
    {
     "name": "stdout",
     "output_type": "stream",
     "text": [
      "train shape: (209506, 1)\n",
      "val shape: (104393, 1)\n",
      "test shape: (103537, 1)\n"
     ]
    }
   ],
   "source": [
    "pred_train = model.predict(train_dataset)\n",
    "pred_val = model.predict(val_dataset)\n",
    "pred_test = model.predict(test_dataset)\n",
    "\n",
    "print(f\"train shape: {pred_train.shape}\")\n",
    "print(f\"val shape: {pred_val.shape}\")\n",
    "print(f\"test shape: {pred_test.shape}\")"
   ]
  },
  {
   "cell_type": "code",
   "execution_count": 13,
   "metadata": {},
   "outputs": [
    {
     "name": "stdout",
     "output_type": "stream",
     "text": [
      "x_label shape: (417436,)\n"
     ]
    }
   ],
   "source": [
    "x_label = np.arange(pred_train.shape[0] + pred_val.shape[0] + pred_test.shape[0])\n",
    "# x_label = x_label.reshape(len(x_label), 1)\n",
    "print(f\"x_label shape: {x_label.shape}\")"
   ]
  },
  {
   "cell_type": "code",
   "execution_count": 14,
   "metadata": {},
   "outputs": [
    {
     "name": "stdout",
     "output_type": "stream",
     "text": [
      "x_train shape: (209506,)\n",
      "y_train shape: (209506,)\n",
      "x_val shape: (104393,)\n",
      "y_val shape: (104393,)\n",
      "x_test shape: (103537,)\n",
      "y_test shape: (103537,)\n"
     ]
    }
   ],
   "source": [
    "train_start = 0\n",
    "train_end = train_start + pred_train.shape[0]\n",
    "x_train = x_label[train_start:train_end]\n",
    "y_train = temperature[(delay + train_start):(delay + train_end)]\n",
    "\n",
    "val_start = train_end\n",
    "val_end = val_start + pred_val.shape[0]\n",
    "x_val = x_label[val_start:val_end]\n",
    "y_val = temperature[(delay + val_start):(delay + val_end)]\n",
    "\n",
    "test_start = val_end\n",
    "test_end = test_start + pred_test.shape[0]\n",
    "x_test = x_label[test_start:test_end]\n",
    "y_test = temperature[(delay + test_start):(delay + test_end)]\n",
    "\n",
    "print(f\"x_train shape: {x_train.shape}\")\n",
    "print(f\"y_train shape: {y_train.shape}\")\n",
    "\n",
    "print(f\"x_val shape: {x_val.shape}\")\n",
    "print(f\"y_val shape: {y_val.shape}\")\n",
    "\n",
    "print(f\"x_test shape: {x_test.shape}\")\n",
    "print(f\"y_test shape: {y_test.shape}\")"
   ]
  },
  {
   "cell_type": "code",
   "execution_count": 17,
   "metadata": {},
   "outputs": [
    {
     "data": {
      "image/png": "[encoded data removed]",
      "text/plain": [
       "<Figure size 648x648 with 1 Axes>"
      ]
     },
     "metadata": {
      "needs_background": "light"
     },
     "output_type": "display_data"
    }
   ],
   "source": [
    "plt.figure(figsize=(9, 9))\n",
    "plt.plot(temperature[delay:])\n",
    "plt.plot(x_train, pred_train)\n",
    "plt.plot(x_val, pred_val)\n",
    "plt.plot(x_test, pred_test)\n",
    "plt.show()"
   ]
  }
 ],
 "metadata": {
  "kernelspec": {
   "display_name": "Python 3.9.7 ('tf26')",
   "language": "python",
   "name": "python3"
  },
  "language_info": {
   "codemirror_mode": {
    "name": "ipython",
    "version": 3
   },
   "file_extension": ".py",
   "mimetype": "text/x-python",
   "name": "python",
   "nbconvert_exporter": "python",
   "pygments_lexer": "ipython3",
   "version": "3.9.7"
  },
  "orig_nbformat": 4,
  "vscode": {
   "interpreter": {
    "hash": "ad58c928f09b19558d9145941e1fbb8f707bd1f52c565dc55011bfbe7360f20d"
   }
  }
 },
 "nbformat": 4,
 "nbformat_minor": 2
}
