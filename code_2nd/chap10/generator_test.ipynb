{
 "cells": [
  {
   "cell_type": "code",
   "execution_count": 1,
   "metadata": {},
   "outputs": [],
   "source": [
    "import numpy as np\n",
    "from tensorflow import keras"
   ]
  },
  {
   "cell_type": "code",
   "execution_count": 2,
   "metadata": {},
   "outputs": [
    {
     "name": "stdout",
     "output_type": "stream",
     "text": [
      "[0, 1, 2] 3\n",
      "[1, 2, 3] 4\n",
      "[2, 3, 4] 5\n",
      "[3, 4, 5] 6\n",
      "[4, 5, 6] 7\n"
     ]
    }
   ],
   "source": [
    "# DONE timeseries_dataset_from_array\n",
    "# https://www.tensorflow.org/api_docs/python/tf/keras/utils/timeseries_dataset_from_array#returns\n",
    "\n",
    "int_sequence = np.arange(10)\n",
    "dummy_dataset = keras.utils.timeseries_dataset_from_array(\n",
    "    data=int_sequence[:-3],\n",
    "    targets=int_sequence[3:],\n",
    "    sequence_length=3,\n",
    "    batch_size=2,\n",
    ")\n",
    "\n",
    "for inputs, targets in dummy_dataset:\n",
    "    for i in range(inputs.shape[0]):\n",
    "        print([int(x) for x in inputs[i]], int(targets[i]))"
   ]
  },
  {
   "cell_type": "code",
   "execution_count": 3,
   "metadata": {},
   "outputs": [
    {
     "name": "stdout",
     "output_type": "stream",
     "text": [
      "[0, 2, 4] 3\n",
      "[1, 3, 5] 4\n",
      "[2, 4, 6] 5\n",
      "[3, 5, 7] 6\n",
      "[4, 6, 8] 7\n",
      "[5, 7, 9] 8\n",
      "[6, 8, 10] 9\n",
      "[7, 9, 11] 10\n",
      "[8, 10, 12] 11\n",
      "[9, 11, 13] 12\n",
      "[10, 12, 14] 13\n",
      "[11, 13, 15] 14\n"
     ]
    }
   ],
   "source": [
    "int_sequence = np.arange(20)\n",
    "dummy_dataset = keras.utils.timeseries_dataset_from_array(\n",
    "    data=int_sequence[:-3],\n",
    "    targets=int_sequence[3:],\n",
    "    sampling_rate=2,\n",
    "    sequence_length=3,\n",
    "    batch_size=2,\n",
    ")\n",
    "\n",
    "for inputs, targets in dummy_dataset:\n",
    "    for i in range(inputs.shape[0]):\n",
    "        print([int(x) for x in inputs[i]], int(targets[i]))"
   ]
  },
  {
   "cell_type": "code",
   "execution_count": 4,
   "metadata": {},
   "outputs": [
    {
     "name": "stdout",
     "output_type": "stream",
     "text": [
      "[0, 1, 2] 3\n",
      "[4, 5, 6] 7\n",
      "[2, 3, 4] 5\n",
      "[3, 4, 5] 6\n",
      "[1, 2, 3] 4\n"
     ]
    }
   ],
   "source": [
    "int_sequence = np.arange(10)\n",
    "dummy_dataset = keras.utils.timeseries_dataset_from_array(\n",
    "    data=int_sequence[:-3],\n",
    "    targets=int_sequence[3:],\n",
    "    sequence_length=3,\n",
    "    batch_size=2,\n",
    "    shuffle=True,\n",
    ")\n",
    "\n",
    "for inputs, targets in dummy_dataset:\n",
    "    for i in range(inputs.shape[0]):\n",
    "        print([int(x) for x in inputs[i]], int(targets[i]))"
   ]
  },
  {
   "cell_type": "code",
   "execution_count": 5,
   "metadata": {},
   "outputs": [
    {
     "name": "stdout",
     "output_type": "stream",
     "text": [
      "[1, 2, 3] 4\n",
      "[3, 4, 5] 6\n",
      "[4, 5, 6] 7\n",
      "[0, 1, 2] 3\n",
      "[2, 3, 4] 5\n"
     ]
    }
   ],
   "source": [
    "int_sequence = np.arange(10)\n",
    "dummy_dataset = keras.utils.timeseries_dataset_from_array(\n",
    "    data=int_sequence[:-3],\n",
    "    targets=int_sequence[3:],\n",
    "    sequence_length=3,\n",
    "    batch_size=2,\n",
    "    shuffle=True,\n",
    "    seed=42,\n",
    ")\n",
    "\n",
    "for inputs, targets in dummy_dataset:\n",
    "    for i in range(inputs.shape[0]):\n",
    "        print([int(x) for x in inputs[i]], int(targets[i]))"
   ]
  }
 ],
 "metadata": {
  "kernelspec": {
   "display_name": "tf26",
   "language": "python",
   "name": "python3"
  },
  "language_info": {
   "codemirror_mode": {
    "name": "ipython",
    "version": 3
   },
   "file_extension": ".py",
   "mimetype": "text/x-python",
   "name": "python",
   "nbconvert_exporter": "python",
   "pygments_lexer": "ipython3",
   "version": "3.9.7"
  },
  "orig_nbformat": 4,
  "vscode": {
   "interpreter": {
    "hash": "ad58c928f09b19558d9145941e1fbb8f707bd1f52c565dc55011bfbe7360f20d"
   }
  }
 },
 "nbformat": 4,
 "nbformat_minor": 2
}
