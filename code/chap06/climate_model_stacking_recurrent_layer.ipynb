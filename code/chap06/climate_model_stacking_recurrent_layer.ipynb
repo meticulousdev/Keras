{
 "cells": [
  {
   "cell_type": "code",
   "execution_count": 1,
   "metadata": {},
   "outputs": [],
   "source": [
    "import os\n",
    "import numpy as np\n",
    "\n",
    "from tensorflow.keras.models import Sequential\n",
    "from tensorflow.keras import layers"
   ]
  },
  {
   "cell_type": "code",
   "execution_count": 2,
   "metadata": {},
   "outputs": [],
   "source": [
    "import time\n",
    "start = time.time()"
   ]
  },
  {
   "cell_type": "code",
   "execution_count": 3,
   "metadata": {},
   "outputs": [],
   "source": [
    "data_dir = './datasets/jena_climate/'\n",
    "fname = os.path.join(data_dir, 'jena_climate_2009_2016.csv')\n",
    "\n",
    "f = open(fname)\n",
    "data = f.read()\n",
    "f.close()\n",
    "\n",
    "lines = data.split('\\n')\n",
    "header = lines[0].split(',')\n",
    "lines = lines[1:]"
   ]
  },
  {
   "cell_type": "code",
   "execution_count": 4,
   "metadata": {},
   "outputs": [],
   "source": [
    "float_data = np.zeros((len(lines), len(header) - 1))\n",
    "for i, line in enumerate(lines):\n",
    "    values = [float(x) for x in line.split(',')[1:]]\n",
    "    float_data[i, :] = values"
   ]
  },
  {
   "cell_type": "code",
   "execution_count": 5,
   "metadata": {},
   "outputs": [],
   "source": [
    "mean = float_data[:200000].mean(axis=0)\n",
    "float_data -= mean\n",
    "std = float_data[:200000].std(axis=0)\n",
    "float_data /= std"
   ]
  },
  {
   "cell_type": "code",
   "execution_count": 6,
   "metadata": {},
   "outputs": [],
   "source": [
    "def generator(data, lookback, delay, min_index, max_index,\n",
    "              shuffle=False, batch_size=128, step=6):\n",
    "    if max_index is None:\n",
    "        max_index = len(data) - delay - 1\n",
    "    i = min_index + lookback\n",
    "    while 1:\n",
    "        if shuffle:\n",
    "            rows = np.random.randint(\n",
    "                min_index + lookback, max_index, size=batch_size)\n",
    "        else:\n",
    "            if i + batch_size >= max_index:\n",
    "                i = min_index + lookback\n",
    "            rows = np.arange(i, min(i + batch_size, max_index))\n",
    "            i += len(rows)\n",
    "\n",
    "        samples = np.zeros((len(rows),\n",
    "                           lookback // step,\n",
    "                           data.shape[-1]))\n",
    "        targets = np.zeros((len(rows),))\n",
    "        for j, row in enumerate(rows):\n",
    "            indices = range(rows[j] - lookback, rows[j], step)\n",
    "            samples[j] = data[indices]\n",
    "            targets[j] = data[rows[j] + delay][1]\n",
    "        yield samples, targets"
   ]
  },
  {
   "cell_type": "code",
   "execution_count": 7,
   "metadata": {},
   "outputs": [],
   "source": [
    "lookback = 1440\n",
    "step = 6\n",
    "delay = 144\n",
    "batch_size = 128\n",
    "\n",
    "train_gen = generator(float_data,\n",
    "                      lookback=lookback,\n",
    "                      delay=delay,\n",
    "                      min_index=0,\n",
    "                      max_index=200000,\n",
    "                      shuffle=True,\n",
    "                      step=step, \n",
    "                      batch_size=batch_size)\n",
    "val_gen = generator(float_data,\n",
    "                    lookback=lookback,\n",
    "                    delay=delay,\n",
    "                    min_index=200001,\n",
    "                    max_index=300000,\n",
    "                    step=step,\n",
    "                    batch_size=batch_size)\n",
    "test_gen = generator(float_data,\n",
    "                     lookback=lookback,\n",
    "                     delay=delay,\n",
    "                     min_index=300001,\n",
    "                     max_index=None,\n",
    "                     step=step,\n",
    "                     batch_size=batch_size)\n",
    "\n",
    "val_steps = (300000 - 200001 - lookback) // batch_size\n",
    "\n",
    "test_steps = (len(float_data) - 300001 - lookback) // batch_size"
   ]
  },
  {
   "cell_type": "code",
   "execution_count": 8,
   "metadata": {},
   "outputs": [
    {
     "name": "stderr",
     "output_type": "stream",
     "text": [
      "c:\\Users\\ADmin\\anaconda3\\envs\\tf26\\lib\\site-packages\\keras\\engine\\training.py:1972: UserWarning: `Model.fit_generator` is deprecated and will be removed in a future version. Please use `Model.fit`, which supports generators.\n",
      "  warnings.warn('`Model.fit_generator` is deprecated and '\n"
     ]
    },
    {
     "name": "stdout",
     "output_type": "stream",
     "text": [
      "Epoch 1/40\n",
      "500/500 [==============================] - 173s 342ms/step - loss: 0.3186 - val_loss: 0.2777\n",
      "Epoch 2/40\n",
      "500/500 [==============================] - 175s 350ms/step - loss: 0.3014 - val_loss: 0.2747\n",
      "Epoch 3/40\n",
      "500/500 [==============================] - 181s 363ms/step - loss: 0.2955 - val_loss: 0.2792\n",
      "Epoch 4/40\n",
      "500/500 [==============================] - 179s 358ms/step - loss: 0.2860 - val_loss: 0.2699\n",
      "Epoch 5/40\n",
      "500/500 [==============================] - 181s 361ms/step - loss: 0.2823 - val_loss: 0.2776\n",
      "Epoch 6/40\n",
      "500/500 [==============================] - 183s 365ms/step - loss: 0.2746 - val_loss: 0.2773\n",
      "Epoch 7/40\n",
      "500/500 [==============================] - 185s 370ms/step - loss: 0.2693 - val_loss: 0.2777\n",
      "Epoch 8/40\n",
      "500/500 [==============================] - 169s 338ms/step - loss: 0.2642 - val_loss: 0.2766\n",
      "Epoch 9/40\n",
      "500/500 [==============================] - 167s 334ms/step - loss: 0.2597 - val_loss: 0.2834\n",
      "Epoch 10/40\n",
      "500/500 [==============================] - 164s 329ms/step - loss: 0.2555 - val_loss: 0.2754\n",
      "Epoch 11/40\n",
      "500/500 [==============================] - 167s 334ms/step - loss: 0.2521 - val_loss: 0.2866\n",
      "Epoch 12/40\n",
      "500/500 [==============================] - 169s 339ms/step - loss: 0.2490 - val_loss: 0.2881\n",
      "Epoch 13/40\n",
      "500/500 [==============================] - 168s 336ms/step - loss: 0.2446 - val_loss: 0.2907\n",
      "Epoch 14/40\n",
      "500/500 [==============================] - 167s 335ms/step - loss: 0.2410 - val_loss: 0.2919\n",
      "Epoch 15/40\n",
      "500/500 [==============================] - 165s 331ms/step - loss: 0.2379 - val_loss: 0.2996\n",
      "Epoch 16/40\n",
      "500/500 [==============================] - 167s 335ms/step - loss: 0.2340 - val_loss: 0.3059\n",
      "Epoch 17/40\n",
      "500/500 [==============================] - 167s 333ms/step - loss: 0.2305 - val_loss: 0.3050\n",
      "Epoch 18/40\n",
      "500/500 [==============================] - 167s 334ms/step - loss: 0.2281 - val_loss: 0.3062\n",
      "Epoch 19/40\n",
      "500/500 [==============================] - 166s 333ms/step - loss: 0.2250 - val_loss: 0.3094\n",
      "Epoch 20/40\n",
      "500/500 [==============================] - 170s 340ms/step - loss: 0.2227 - val_loss: 0.3111\n",
      "Epoch 21/40\n",
      "500/500 [==============================] - 172s 345ms/step - loss: 0.2187 - val_loss: 0.3140\n",
      "Epoch 22/40\n",
      "500/500 [==============================] - 170s 341ms/step - loss: 0.2173 - val_loss: 0.3145\n",
      "Epoch 23/40\n",
      "500/500 [==============================] - 169s 339ms/step - loss: 0.2143 - val_loss: 0.3193\n",
      "Epoch 24/40\n",
      "500/500 [==============================] - 167s 333ms/step - loss: 0.2121 - val_loss: 0.3301\n",
      "Epoch 25/40\n",
      "500/500 [==============================] - 167s 334ms/step - loss: 0.2101 - val_loss: 0.3215\n",
      "Epoch 26/40\n",
      "500/500 [==============================] - 168s 336ms/step - loss: 0.2070 - val_loss: 0.3242\n",
      "Epoch 27/40\n",
      "500/500 [==============================] - 167s 334ms/step - loss: 0.2062 - val_loss: 0.3267\n",
      "Epoch 28/40\n",
      "500/500 [==============================] - 168s 337ms/step - loss: 0.2033 - val_loss: 0.3290\n",
      "Epoch 29/40\n",
      "500/500 [==============================] - 167s 333ms/step - loss: 0.2006 - val_loss: 0.3231\n",
      "Epoch 30/40\n",
      "500/500 [==============================] - 169s 338ms/step - loss: 0.2000 - val_loss: 0.3271\n",
      "Epoch 31/40\n",
      "500/500 [==============================] - 167s 333ms/step - loss: 0.1984 - val_loss: 0.3314\n",
      "Epoch 32/40\n",
      "500/500 [==============================] - 168s 337ms/step - loss: 0.1960 - val_loss: 0.3336\n",
      "Epoch 33/40\n",
      "500/500 [==============================] - 168s 335ms/step - loss: 0.1943 - val_loss: 0.3377\n",
      "Epoch 34/40\n",
      "500/500 [==============================] - 167s 335ms/step - loss: 0.1941 - val_loss: 0.3409\n",
      "Epoch 35/40\n",
      "500/500 [==============================] - 168s 336ms/step - loss: 0.1920 - val_loss: 0.3368\n",
      "Epoch 36/40\n",
      "500/500 [==============================] - 167s 333ms/step - loss: 0.1907 - val_loss: 0.3381\n",
      "Epoch 37/40\n",
      "500/500 [==============================] - 168s 336ms/step - loss: 0.1883 - val_loss: 0.3367\n",
      "Epoch 38/40\n",
      "500/500 [==============================] - 167s 335ms/step - loss: 0.1885 - val_loss: 0.3347\n",
      "Epoch 39/40\n",
      "500/500 [==============================] - 167s 334ms/step - loss: 0.1857 - val_loss: 0.3318\n",
      "Epoch 40/40\n",
      "500/500 [==============================] - 166s 332ms/step - loss: 0.1855 - val_loss: 0.3364\n"
     ]
    }
   ],
   "source": [
    "model = Sequential()\n",
    "model.add(layers.GRU(32,\n",
    "                     dropout=0.1,\n",
    "                     recurrent_dropout=0.5,\n",
    "                     return_sequences=True,\n",
    "                     input_shape=(None, float_data.shape[-1])))\n",
    "model.add(layers.GRU(64,\n",
    "                     activation='relu',\n",
    "                     dropout=0.1,\n",
    "                     recurrent_dropout=0.5))\n",
    "model.add(layers.Dense(1))\n",
    "\n",
    "model.compile(optimizer='rmsprop', loss='mae')\n",
    "history = model.fit_generator(train_gen,\n",
    "                              steps_per_epoch=500,\n",
    "                              epochs=40,\n",
    "                              validation_data=val_gen,\n",
    "                              validation_steps=val_steps)"
   ]
  },
  {
   "cell_type": "code",
   "execution_count": 9,
   "metadata": {},
   "outputs": [
    {
     "data": {
      "image/png": "[encoded data removed]",
      "text/plain": [
       "<Figure size 432x288 with 1 Axes>"
      ]
     },
     "metadata": {
      "needs_background": "light"
     },
     "output_type": "display_data"
    }
   ],
   "source": [
    "import matplotlib.pyplot as plt\n",
    "\n",
    "loss = history.history['loss']\n",
    "val_loss = history.history['val_loss']\n",
    "\n",
    "epochs = range(1, len(loss) + 1)\n",
    "\n",
    "plt.figure()\n",
    "\n",
    "plt.plot(epochs, loss, 'bo', label='Training loss')\n",
    "plt.plot(epochs, val_loss, 'b', label='Validation loss')\n",
    "plt.title('Training and validation loss')\n",
    "plt.legend()\n",
    "\n",
    "plt.show()"
   ]
  },
  {
   "cell_type": "code",
   "execution_count": 10,
   "metadata": {},
   "outputs": [
    {
     "name": "stdout",
     "output_type": "stream",
     "text": [
      "elapsed time: 6835.8785009384155\n"
     ]
    }
   ],
   "source": [
    "print(f\"elapsed time: {time.time() - start}\")"
   ]
  }
 ],
 "metadata": {
  "kernelspec": {
   "display_name": "Python 3.9.7 ('tf26')",
   "language": "python",
   "name": "python3"
  },
  "language_info": {
   "codemirror_mode": {
    "name": "ipython",
    "version": 3
   },
   "file_extension": ".py",
   "mimetype": "text/x-python",
   "name": "python",
   "nbconvert_exporter": "python",
   "pygments_lexer": "ipython3",
   "version": "3.9.7"
  },
  "orig_nbformat": 4,
  "vscode": {
   "interpreter": {
    "hash": "ad58c928f09b19558d9145941e1fbb8f707bd1f52c565dc55011bfbe7360f20d"
   }
  }
 },
 "nbformat": 4,
 "nbformat_minor": 2
}
