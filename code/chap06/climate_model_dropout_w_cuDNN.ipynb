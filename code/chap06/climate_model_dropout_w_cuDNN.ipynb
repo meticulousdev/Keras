{
 "cells": [
  {
   "cell_type": "code",
   "execution_count": 9,
   "metadata": {},
   "outputs": [],
   "source": [
    "import os\n",
    "import numpy as np\n",
    "\n",
    "from tensorflow.keras.models import Sequential\n",
    "from tensorflow.keras import layers"
   ]
  },
  {
   "cell_type": "code",
   "execution_count": 10,
   "metadata": {},
   "outputs": [],
   "source": [
    "import time\n",
    "start = time.time()"
   ]
  },
  {
   "cell_type": "code",
   "execution_count": 11,
   "metadata": {},
   "outputs": [],
   "source": [
    "data_dir = './datasets/jena_climate/'\n",
    "fname = os.path.join(data_dir, 'jena_climate_2009_2016.csv')\n",
    "\n",
    "f = open(fname)\n",
    "data = f.read()\n",
    "f.close()\n",
    "\n",
    "lines = data.split('\\n')\n",
    "header = lines[0].split(',')\n",
    "lines = lines[1:]"
   ]
  },
  {
   "cell_type": "code",
   "execution_count": 12,
   "metadata": {},
   "outputs": [],
   "source": [
    "float_data = np.zeros((len(lines), len(header) - 1))\n",
    "for i, line in enumerate(lines):\n",
    "    values = [float(x) for x in line.split(',')[1:]]\n",
    "    float_data[i, :] = values"
   ]
  },
  {
   "cell_type": "code",
   "execution_count": 13,
   "metadata": {},
   "outputs": [],
   "source": [
    "mean = float_data[:200000].mean(axis=0)\n",
    "float_data -= mean\n",
    "std = float_data[:200000].std(axis=0)\n",
    "float_data /= std"
   ]
  },
  {
   "cell_type": "code",
   "execution_count": 14,
   "metadata": {},
   "outputs": [],
   "source": [
    "def generator(data, lookback, delay, min_index, max_index,\n",
    "              shuffle=False, batch_size=128, step=6):\n",
    "    if max_index is None:\n",
    "        max_index = len(data) - delay - 1\n",
    "    i = min_index + lookback\n",
    "    while 1:\n",
    "        if shuffle:\n",
    "            rows = np.random.randint(\n",
    "                min_index + lookback, max_index, size=batch_size)\n",
    "        else:\n",
    "            if i + batch_size >= max_index:\n",
    "                i = min_index + lookback\n",
    "            rows = np.arange(i, min(i + batch_size, max_index))\n",
    "            i += len(rows)\n",
    "\n",
    "        samples = np.zeros((len(rows),\n",
    "                           lookback // step,\n",
    "                           data.shape[-1]))\n",
    "        targets = np.zeros((len(rows),))\n",
    "        for j, row in enumerate(rows):\n",
    "            indices = range(rows[j] - lookback, rows[j], step)\n",
    "            samples[j] = data[indices]\n",
    "            targets[j] = data[rows[j] + delay][1]\n",
    "        yield samples, targets"
   ]
  },
  {
   "cell_type": "code",
   "execution_count": 15,
   "metadata": {},
   "outputs": [],
   "source": [
    "lookback = 1440\n",
    "step = 6\n",
    "delay = 144\n",
    "batch_size = 128\n",
    "\n",
    "train_gen = generator(float_data,\n",
    "                      lookback=lookback,\n",
    "                      delay=delay,\n",
    "                      min_index=0,\n",
    "                      max_index=200000,\n",
    "                      shuffle=True,\n",
    "                      step=step, \n",
    "                      batch_size=batch_size)\n",
    "val_gen = generator(float_data,\n",
    "                    lookback=lookback,\n",
    "                    delay=delay,\n",
    "                    min_index=200001,\n",
    "                    max_index=300000,\n",
    "                    step=step,\n",
    "                    batch_size=batch_size)\n",
    "test_gen = generator(float_data,\n",
    "                     lookback=lookback,\n",
    "                     delay=delay,\n",
    "                     min_index=300001,\n",
    "                     max_index=None,\n",
    "                     step=step,\n",
    "                     batch_size=batch_size)\n",
    "\n",
    "val_steps = (300000 - 200001 - lookback) // batch_size\n",
    "\n",
    "test_steps = (len(float_data) - 300001 - lookback) // batch_size"
   ]
  },
  {
   "cell_type": "code",
   "execution_count": 16,
   "metadata": {},
   "outputs": [
    {
     "name": "stdout",
     "output_type": "stream",
     "text": [
      "Epoch 1/40\n",
      "500/500 [==============================] - 76s 149ms/step - loss: 0.3245 - val_loss: 0.2775\n",
      "Epoch 2/40\n",
      "500/500 [==============================] - 73s 147ms/step - loss: 0.3031 - val_loss: 0.2757\n",
      "Epoch 3/40\n",
      "500/500 [==============================] - 74s 147ms/step - loss: 0.2979 - val_loss: 0.2808\n",
      "Epoch 4/40\n",
      "500/500 [==============================] - 73s 146ms/step - loss: 0.2933 - val_loss: 0.2796\n",
      "Epoch 5/40\n",
      "500/500 [==============================] - 73s 145ms/step - loss: 0.2876 - val_loss: 0.2740\n",
      "Epoch 6/40\n",
      "500/500 [==============================] - 73s 145ms/step - loss: 0.2864 - val_loss: 0.2737\n",
      "Epoch 7/40\n",
      "500/500 [==============================] - 75s 149ms/step - loss: 0.2805 - val_loss: 0.2707\n",
      "Epoch 8/40\n",
      "500/500 [==============================] - 74s 149ms/step - loss: 0.2780 - val_loss: 0.2705\n",
      "Epoch 9/40\n",
      "500/500 [==============================] - 74s 147ms/step - loss: 0.2737 - val_loss: 0.2719\n",
      "Epoch 10/40\n",
      "500/500 [==============================] - 73s 147ms/step - loss: 0.2713 - val_loss: 0.2724\n",
      "Epoch 11/40\n",
      "500/500 [==============================] - 73s 147ms/step - loss: 0.2682 - val_loss: 0.2773\n",
      "Epoch 12/40\n",
      "500/500 [==============================] - 72s 143ms/step - loss: 0.2642 - val_loss: 0.2734\n",
      "Epoch 13/40\n",
      "500/500 [==============================] - 73s 146ms/step - loss: 0.2617 - val_loss: 0.2744\n",
      "Epoch 14/40\n",
      "500/500 [==============================] - 72s 145ms/step - loss: 0.2597 - val_loss: 0.2802\n",
      "Epoch 15/40\n",
      "500/500 [==============================] - 73s 146ms/step - loss: 0.2566 - val_loss: 0.2774\n",
      "Epoch 16/40\n",
      "500/500 [==============================] - 73s 146ms/step - loss: 0.2555 - val_loss: 0.2783\n",
      "Epoch 17/40\n",
      "500/500 [==============================] - 73s 146ms/step - loss: 0.2529 - val_loss: 0.2818\n",
      "Epoch 18/40\n",
      "500/500 [==============================] - 72s 145ms/step - loss: 0.2507 - val_loss: 0.2792\n",
      "Epoch 19/40\n",
      "500/500 [==============================] - 73s 145ms/step - loss: 0.2495 - val_loss: 0.2798\n",
      "Epoch 20/40\n",
      "500/500 [==============================] - 72s 143ms/step - loss: 0.2482 - val_loss: 0.2849\n",
      "Epoch 21/40\n",
      "500/500 [==============================] - 72s 144ms/step - loss: 0.2450 - val_loss: 0.2883\n",
      "Epoch 22/40\n",
      "500/500 [==============================] - 72s 145ms/step - loss: 0.2429 - val_loss: 0.2857\n",
      "Epoch 23/40\n",
      "500/500 [==============================] - 73s 146ms/step - loss: 0.2425 - val_loss: 0.2902\n",
      "Epoch 24/40\n",
      "500/500 [==============================] - 73s 145ms/step - loss: 0.2409 - val_loss: 0.2911\n",
      "Epoch 25/40\n",
      "500/500 [==============================] - 73s 146ms/step - loss: 0.2393 - val_loss: 0.2950\n",
      "Epoch 26/40\n",
      "500/500 [==============================] - 73s 147ms/step - loss: 0.2384 - val_loss: 0.2962\n",
      "Epoch 27/40\n",
      "500/500 [==============================] - 70s 140ms/step - loss: 0.2365 - val_loss: 0.2939\n",
      "Epoch 28/40\n",
      "500/500 [==============================] - 67s 133ms/step - loss: 0.2360 - val_loss: 0.2993\n",
      "Epoch 29/40\n",
      "500/500 [==============================] - 64s 129ms/step - loss: 0.2346 - val_loss: 0.2995\n",
      "Epoch 30/40\n",
      "500/500 [==============================] - 64s 129ms/step - loss: 0.2328 - val_loss: 0.3015\n",
      "Epoch 31/40\n",
      "500/500 [==============================] - 65s 130ms/step - loss: 0.2320 - val_loss: 0.3014\n",
      "Epoch 32/40\n",
      "500/500 [==============================] - 64s 128ms/step - loss: 0.2304 - val_loss: 0.3029\n",
      "Epoch 33/40\n",
      "500/500 [==============================] - 67s 134ms/step - loss: 0.2289 - val_loss: 0.3045\n",
      "Epoch 34/40\n",
      "500/500 [==============================] - 65s 130ms/step - loss: 0.2253 - val_loss: 0.3078\n",
      "Epoch 35/40\n",
      "500/500 [==============================] - 64s 129ms/step - loss: 0.2263 - val_loss: 0.3076\n",
      "Epoch 36/40\n",
      "500/500 [==============================] - 64s 128ms/step - loss: 0.2251 - val_loss: 0.3119\n",
      "Epoch 37/40\n",
      "500/500 [==============================] - 64s 129ms/step - loss: 0.2243 - val_loss: 0.3077\n",
      "Epoch 38/40\n",
      "500/500 [==============================] - 64s 129ms/step - loss: 0.2233 - val_loss: 0.3137\n",
      "Epoch 39/40\n",
      "500/500 [==============================] - 64s 129ms/step - loss: 0.2222 - val_loss: 0.3231\n",
      "Epoch 40/40\n",
      "500/500 [==============================] - 64s 129ms/step - loss: 0.2215 - val_loss: 0.3164\n"
     ]
    }
   ],
   "source": [
    "model = Sequential()\n",
    "model.add(layers.GRU(32,\n",
    "                     dropout=0.2,\n",
    "                     recurrent_dropout=0.2,\n",
    "                     input_shape=(None, float_data.shape[-1])))\n",
    "model.add(layers.Dense(1))\n",
    "\n",
    "model.compile(optimizer='rmsprop', loss='mae')\n",
    "history = model.fit_generator(train_gen,\n",
    "                              steps_per_epoch=500,\n",
    "                              epochs=40,\n",
    "                              validation_data=val_gen,\n",
    "                              validation_steps=val_steps)"
   ]
  },
  {
   "cell_type": "code",
   "execution_count": 17,
   "metadata": {},
   "outputs": [
    {
     "data": {
      "image/png": "[encoded data removed]",
      "text/plain": [
       "<Figure size 432x288 with 1 Axes>"
      ]
     },
     "metadata": {
      "needs_background": "light"
     },
     "output_type": "display_data"
    }
   ],
   "source": [
    "import matplotlib.pyplot as plt\n",
    "\n",
    "loss = history.history['loss']\n",
    "val_loss = history.history['val_loss']\n",
    "\n",
    "epochs = range(1, len(loss) + 1)\n",
    "\n",
    "plt.figure()\n",
    "\n",
    "plt.plot(epochs, loss, 'bo', label='Training loss')\n",
    "plt.plot(epochs, val_loss, 'b', label='Validation loss')\n",
    "plt.title('Training and validation loss')\n",
    "plt.legend()\n",
    "\n",
    "plt.show()"
   ]
  },
  {
   "cell_type": "code",
   "execution_count": 18,
   "metadata": {},
   "outputs": [
    {
     "name": "stdout",
     "output_type": "stream",
     "text": [
      "elapsed time: 2815.024864912033\n"
     ]
    }
   ],
   "source": [
    "print(f\"elapsed time: {time.time() - start}\")"
   ]
  }
 ],
 "metadata": {
  "kernelspec": {
   "display_name": "Python 3.9.7 ('tf26')",
   "language": "python",
   "name": "python3"
  },
  "language_info": {
   "codemirror_mode": {
    "name": "ipython",
    "version": 3
   },
   "file_extension": ".py",
   "mimetype": "text/x-python",
   "name": "python",
   "nbconvert_exporter": "python",
   "pygments_lexer": "ipython3",
   "version": "3.9.7"
  },
  "orig_nbformat": 4,
  "vscode": {
   "interpreter": {
    "hash": "ad58c928f09b19558d9145941e1fbb8f707bd1f52c565dc55011bfbe7360f20d"
   }
  }
 },
 "nbformat": 4,
 "nbformat_minor": 2
}
